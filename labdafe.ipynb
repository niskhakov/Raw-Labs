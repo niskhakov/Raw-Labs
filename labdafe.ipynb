{
 "cells": [
  {
   "cell_type": "code",
   "execution_count": 1,
   "metadata": {
    "scrolled": true,
    "slideshow": {
     "slide_type": "skip"
    }
   },
   "outputs": [
    {
     "data": {
      "text/html": [
       "<style>\n",
       ".output {\n",
       "    flex-direction: row;\n",
       "}\n",
       "</style>"
      ],
      "text/plain": [
       "<IPython.core.display.HTML object>"
      ]
     },
     "execution_count": 1,
     "metadata": {},
     "output_type": "execute_result"
    }
   ],
   "source": [
    "import sys\n",
    "sys.path.append('/home/wprofile/Documents/Projects/labMNK')\n",
    "import numpy as np\n",
    "import pandas as pd\n",
    "import labmnk as mnk\n",
    "from matplotlib import pyplot as plt\n",
    "from IPython.display import display, HTML\n",
    "from math import sqrt\n",
    "%matplotlib inline\n",
    "CSS = \"\"\"\n",
    ".output {\n",
    "    flex-direction: row;\n",
    "}\n",
    "\"\"\"\n",
    "HTML('<style>{}</style>'.format(CSS))"
   ]
  },
  {
   "cell_type": "markdown",
   "metadata": {
    "slideshow": {
     "slide_type": "slide"
    }
   },
   "source": [
    "У нас есть данные двух опытов, \n",
    "\n",
    "- 1 набор для определения веса компонентов тензовесов\n",
    "- 2 набор для определения веса сферы\n"
   ]
  },
  {
   "cell_type": "code",
   "execution_count": 2,
   "metadata": {
    "collapsed": true,
    "slideshow": {
     "slide_type": "skip"
    }
   },
   "outputs": [],
   "source": [
    "data1 = pd.read_csv(\"data1p.csv\")\n",
    "data2 = pd.read_csv(\"data2p.csv\")"
   ]
  },
  {
   "cell_type": "code",
   "execution_count": 3,
   "metadata": {
    "slideshow": {
     "slide_type": "slide"
    }
   },
   "outputs": [
    {
     "data": {
      "text/html": [
       "<div>\n",
       "<style>\n",
       "    .dataframe thead tr:only-child th {\n",
       "        text-align: right;\n",
       "    }\n",
       "\n",
       "    .dataframe thead th {\n",
       "        text-align: left;\n",
       "    }\n",
       "\n",
       "    .dataframe tbody tr th {\n",
       "        vertical-align: top;\n",
       "    }\n",
       "</style>\n",
       "<table border=\"1\" class=\"dataframe\">\n",
       "  <thead>\n",
       "    <tr style=\"text-align: right;\">\n",
       "      <th></th>\n",
       "      <th>deg</th>\n",
       "      <th>x</th>\n",
       "      <th>y</th>\n",
       "    </tr>\n",
       "  </thead>\n",
       "  <tbody>\n",
       "    <tr>\n",
       "      <th>0</th>\n",
       "      <td>-10</td>\n",
       "      <td>0.417</td>\n",
       "      <td>0.334</td>\n",
       "    </tr>\n",
       "    <tr>\n",
       "      <th>1</th>\n",
       "      <td>-5</td>\n",
       "      <td>0.513</td>\n",
       "      <td>0.337</td>\n",
       "    </tr>\n",
       "    <tr>\n",
       "      <th>2</th>\n",
       "      <td>0</td>\n",
       "      <td>0.609</td>\n",
       "      <td>0.337</td>\n",
       "    </tr>\n",
       "    <tr>\n",
       "      <th>3</th>\n",
       "      <td>5</td>\n",
       "      <td>0.706</td>\n",
       "      <td>0.336</td>\n",
       "    </tr>\n",
       "    <tr>\n",
       "      <th>4</th>\n",
       "      <td>10</td>\n",
       "      <td>0.800</td>\n",
       "      <td>0.334</td>\n",
       "    </tr>\n",
       "    <tr>\n",
       "      <th>5</th>\n",
       "      <td>15</td>\n",
       "      <td>0.895</td>\n",
       "      <td>0.328</td>\n",
       "    </tr>\n",
       "    <tr>\n",
       "      <th>6</th>\n",
       "      <td>20</td>\n",
       "      <td>0.989</td>\n",
       "      <td>0.324</td>\n",
       "    </tr>\n",
       "    <tr>\n",
       "      <th>7</th>\n",
       "      <td>25</td>\n",
       "      <td>1.079</td>\n",
       "      <td>0.318</td>\n",
       "    </tr>\n",
       "    <tr>\n",
       "      <th>8</th>\n",
       "      <td>30</td>\n",
       "      <td>1.165</td>\n",
       "      <td>0.312</td>\n",
       "    </tr>\n",
       "  </tbody>\n",
       "</table>\n",
       "</div>"
      ],
      "text/plain": [
       "   deg      x      y\n",
       "0  -10  0.417  0.334\n",
       "1   -5  0.513  0.337\n",
       "2    0  0.609  0.337\n",
       "3    5  0.706  0.336\n",
       "4   10  0.800  0.334\n",
       "5   15  0.895  0.328\n",
       "6   20  0.989  0.324\n",
       "7   25  1.079  0.318\n",
       "8   30  1.165  0.312"
      ]
     },
     "metadata": {},
     "output_type": "display_data"
    },
    {
     "data": {
      "text/html": [
       "<div>\n",
       "<style>\n",
       "    .dataframe thead tr:only-child th {\n",
       "        text-align: right;\n",
       "    }\n",
       "\n",
       "    .dataframe thead th {\n",
       "        text-align: left;\n",
       "    }\n",
       "\n",
       "    .dataframe tbody tr th {\n",
       "        vertical-align: top;\n",
       "    }\n",
       "</style>\n",
       "<table border=\"1\" class=\"dataframe\">\n",
       "  <thead>\n",
       "    <tr style=\"text-align: right;\">\n",
       "      <th></th>\n",
       "      <th>deg</th>\n",
       "      <th>x</th>\n",
       "      <th>y</th>\n",
       "    </tr>\n",
       "  </thead>\n",
       "  <tbody>\n",
       "    <tr>\n",
       "      <th>0</th>\n",
       "      <td>-10</td>\n",
       "      <td>0.022</td>\n",
       "      <td>1.280</td>\n",
       "    </tr>\n",
       "    <tr>\n",
       "      <th>1</th>\n",
       "      <td>-5</td>\n",
       "      <td>0.277</td>\n",
       "      <td>1.296</td>\n",
       "    </tr>\n",
       "    <tr>\n",
       "      <th>2</th>\n",
       "      <td>0</td>\n",
       "      <td>0.531</td>\n",
       "      <td>1.302</td>\n",
       "    </tr>\n",
       "    <tr>\n",
       "      <th>3</th>\n",
       "      <td>5</td>\n",
       "      <td>0.781</td>\n",
       "      <td>1.299</td>\n",
       "    </tr>\n",
       "    <tr>\n",
       "      <th>4</th>\n",
       "      <td>10</td>\n",
       "      <td>1.033</td>\n",
       "      <td>1.288</td>\n",
       "    </tr>\n",
       "    <tr>\n",
       "      <th>5</th>\n",
       "      <td>15</td>\n",
       "      <td>1.282</td>\n",
       "      <td>1.268</td>\n",
       "    </tr>\n",
       "    <tr>\n",
       "      <th>6</th>\n",
       "      <td>20</td>\n",
       "      <td>1.528</td>\n",
       "      <td>1.238</td>\n",
       "    </tr>\n",
       "    <tr>\n",
       "      <th>7</th>\n",
       "      <td>25</td>\n",
       "      <td>1.765</td>\n",
       "      <td>1.200</td>\n",
       "    </tr>\n",
       "    <tr>\n",
       "      <th>8</th>\n",
       "      <td>30</td>\n",
       "      <td>1.995</td>\n",
       "      <td>1.153</td>\n",
       "    </tr>\n",
       "  </tbody>\n",
       "</table>\n",
       "</div>"
      ],
      "text/plain": [
       "   deg      x      y\n",
       "0  -10  0.022  1.280\n",
       "1   -5  0.277  1.296\n",
       "2    0  0.531  1.302\n",
       "3    5  0.781  1.299\n",
       "4   10  1.033  1.288\n",
       "5   15  1.282  1.268\n",
       "6   20  1.528  1.238\n",
       "7   25  1.765  1.200\n",
       "8   30  1.995  1.153"
      ]
     },
     "metadata": {},
     "output_type": "display_data"
    }
   ],
   "source": [
    "display(data1)\n",
    "display(data2)"
   ]
  },
  {
   "cell_type": "markdown",
   "metadata": {
    "slideshow": {
     "slide_type": "slide"
    }
   },
   "source": [
    "### Приведем данные к виду $(x-x_0)$, $(y-y_0)$"
   ]
  },
  {
   "cell_type": "code",
   "execution_count": 4,
   "metadata": {
    "collapsed": true
   },
   "outputs": [],
   "source": [
    "x_nul = data1['x'][2]\n",
    "y_nul = data1['y'][2]\n",
    "\n",
    "data1['x'] = data1['x'].values - x_nul\n",
    "data1['y'] = data1['y'].values - y_nul\n",
    "data1.rename(columns={'x' : 'x-x0', 'y' : 'y-y0'}, inplace=True)\n",
    "\n",
    "data2['x'] = data2['x'].values - x_nul\n",
    "data2['y'] = data2['y'].values - y_nul\n",
    "data2.rename(columns={'x' : 'x-x0', 'y' : 'y-y0'}, inplace=True)\n"
   ]
  },
  {
   "cell_type": "code",
   "execution_count": 5,
   "metadata": {
    "slideshow": {
     "slide_type": "slide"
    }
   },
   "outputs": [
    {
     "data": {
      "text/html": [
       "<div>\n",
       "<style>\n",
       "    .dataframe thead tr:only-child th {\n",
       "        text-align: right;\n",
       "    }\n",
       "\n",
       "    .dataframe thead th {\n",
       "        text-align: left;\n",
       "    }\n",
       "\n",
       "    .dataframe tbody tr th {\n",
       "        vertical-align: top;\n",
       "    }\n",
       "</style>\n",
       "<table border=\"1\" class=\"dataframe\">\n",
       "  <thead>\n",
       "    <tr style=\"text-align: right;\">\n",
       "      <th></th>\n",
       "      <th>deg</th>\n",
       "      <th>x-x0</th>\n",
       "      <th>y-y0</th>\n",
       "    </tr>\n",
       "  </thead>\n",
       "  <tbody>\n",
       "    <tr>\n",
       "      <th>0</th>\n",
       "      <td>-10</td>\n",
       "      <td>-0.192</td>\n",
       "      <td>-0.003</td>\n",
       "    </tr>\n",
       "    <tr>\n",
       "      <th>1</th>\n",
       "      <td>-5</td>\n",
       "      <td>-0.096</td>\n",
       "      <td>0.000</td>\n",
       "    </tr>\n",
       "    <tr>\n",
       "      <th>2</th>\n",
       "      <td>0</td>\n",
       "      <td>0.000</td>\n",
       "      <td>0.000</td>\n",
       "    </tr>\n",
       "    <tr>\n",
       "      <th>3</th>\n",
       "      <td>5</td>\n",
       "      <td>0.097</td>\n",
       "      <td>-0.001</td>\n",
       "    </tr>\n",
       "    <tr>\n",
       "      <th>4</th>\n",
       "      <td>10</td>\n",
       "      <td>0.191</td>\n",
       "      <td>-0.003</td>\n",
       "    </tr>\n",
       "    <tr>\n",
       "      <th>5</th>\n",
       "      <td>15</td>\n",
       "      <td>0.286</td>\n",
       "      <td>-0.009</td>\n",
       "    </tr>\n",
       "    <tr>\n",
       "      <th>6</th>\n",
       "      <td>20</td>\n",
       "      <td>0.380</td>\n",
       "      <td>-0.013</td>\n",
       "    </tr>\n",
       "    <tr>\n",
       "      <th>7</th>\n",
       "      <td>25</td>\n",
       "      <td>0.470</td>\n",
       "      <td>-0.019</td>\n",
       "    </tr>\n",
       "    <tr>\n",
       "      <th>8</th>\n",
       "      <td>30</td>\n",
       "      <td>0.556</td>\n",
       "      <td>-0.025</td>\n",
       "    </tr>\n",
       "  </tbody>\n",
       "</table>\n",
       "</div>"
      ],
      "text/plain": [
       "   deg   x-x0   y-y0\n",
       "0  -10 -0.192 -0.003\n",
       "1   -5 -0.096  0.000\n",
       "2    0  0.000  0.000\n",
       "3    5  0.097 -0.001\n",
       "4   10  0.191 -0.003\n",
       "5   15  0.286 -0.009\n",
       "6   20  0.380 -0.013\n",
       "7   25  0.470 -0.019\n",
       "8   30  0.556 -0.025"
      ]
     },
     "metadata": {},
     "output_type": "display_data"
    },
    {
     "data": {
      "text/html": [
       "<div>\n",
       "<style>\n",
       "    .dataframe thead tr:only-child th {\n",
       "        text-align: right;\n",
       "    }\n",
       "\n",
       "    .dataframe thead th {\n",
       "        text-align: left;\n",
       "    }\n",
       "\n",
       "    .dataframe tbody tr th {\n",
       "        vertical-align: top;\n",
       "    }\n",
       "</style>\n",
       "<table border=\"1\" class=\"dataframe\">\n",
       "  <thead>\n",
       "    <tr style=\"text-align: right;\">\n",
       "      <th></th>\n",
       "      <th>deg</th>\n",
       "      <th>x-x0</th>\n",
       "      <th>y-y0</th>\n",
       "    </tr>\n",
       "  </thead>\n",
       "  <tbody>\n",
       "    <tr>\n",
       "      <th>0</th>\n",
       "      <td>-10</td>\n",
       "      <td>-0.587</td>\n",
       "      <td>0.943</td>\n",
       "    </tr>\n",
       "    <tr>\n",
       "      <th>1</th>\n",
       "      <td>-5</td>\n",
       "      <td>-0.332</td>\n",
       "      <td>0.959</td>\n",
       "    </tr>\n",
       "    <tr>\n",
       "      <th>2</th>\n",
       "      <td>0</td>\n",
       "      <td>-0.078</td>\n",
       "      <td>0.965</td>\n",
       "    </tr>\n",
       "    <tr>\n",
       "      <th>3</th>\n",
       "      <td>5</td>\n",
       "      <td>0.172</td>\n",
       "      <td>0.962</td>\n",
       "    </tr>\n",
       "    <tr>\n",
       "      <th>4</th>\n",
       "      <td>10</td>\n",
       "      <td>0.424</td>\n",
       "      <td>0.951</td>\n",
       "    </tr>\n",
       "    <tr>\n",
       "      <th>5</th>\n",
       "      <td>15</td>\n",
       "      <td>0.673</td>\n",
       "      <td>0.931</td>\n",
       "    </tr>\n",
       "    <tr>\n",
       "      <th>6</th>\n",
       "      <td>20</td>\n",
       "      <td>0.919</td>\n",
       "      <td>0.901</td>\n",
       "    </tr>\n",
       "    <tr>\n",
       "      <th>7</th>\n",
       "      <td>25</td>\n",
       "      <td>1.156</td>\n",
       "      <td>0.863</td>\n",
       "    </tr>\n",
       "    <tr>\n",
       "      <th>8</th>\n",
       "      <td>30</td>\n",
       "      <td>1.386</td>\n",
       "      <td>0.816</td>\n",
       "    </tr>\n",
       "  </tbody>\n",
       "</table>\n",
       "</div>"
      ],
      "text/plain": [
       "   deg   x-x0   y-y0\n",
       "0  -10 -0.587  0.943\n",
       "1   -5 -0.332  0.959\n",
       "2    0 -0.078  0.965\n",
       "3    5  0.172  0.962\n",
       "4   10  0.424  0.951\n",
       "5   15  0.673  0.931\n",
       "6   20  0.919  0.901\n",
       "7   25  1.156  0.863\n",
       "8   30  1.386  0.816"
      ]
     },
     "metadata": {},
     "output_type": "display_data"
    }
   ],
   "source": [
    "display(data1)\n",
    "display(data2)"
   ]
  },
  {
   "cell_type": "code",
   "execution_count": 6,
   "metadata": {
    "collapsed": true,
    "slideshow": {
     "slide_type": "skip"
    }
   },
   "outputs": [],
   "source": [
    "#data1.drop(data1.columns[[3, 4]], axis=1, inplace=True)"
   ]
  },
  {
   "cell_type": "markdown",
   "metadata": {
    "slideshow": {
     "slide_type": "slide"
    }
   },
   "source": [
    "Вычислим sin и 1-cos для того, чтобы построить прямую линию: \n",
    "- $X^0 = (G_M + G_x) \\times sin(\\theta)$\n",
    "- $Y^0 = G_y - (G_M + G_y) \\times cos(\\theta)$\n",
    "\n",
    "Вес, который был определен с помощью тензовесов, будет являться тангенсом угла наклона прямой линии\n",
    "поэтому мы с помощью метода наименьших квадратов строим кривую $f(x) = a\\cdot x + b$, где $a$ измеренный вес в граммах"
   ]
  },
  {
   "cell_type": "code",
   "execution_count": 7,
   "metadata": {
    "slideshow": {
     "slide_type": "slide"
    }
   },
   "outputs": [
    {
     "data": {
      "text/html": [
       "<div>\n",
       "<style>\n",
       "    .dataframe thead tr:only-child th {\n",
       "        text-align: right;\n",
       "    }\n",
       "\n",
       "    .dataframe thead th {\n",
       "        text-align: left;\n",
       "    }\n",
       "\n",
       "    .dataframe tbody tr th {\n",
       "        vertical-align: top;\n",
       "    }\n",
       "</style>\n",
       "<table border=\"1\" class=\"dataframe\">\n",
       "  <thead>\n",
       "    <tr style=\"text-align: right;\">\n",
       "      <th></th>\n",
       "      <th>deg</th>\n",
       "      <th>x-x0</th>\n",
       "      <th>y-y0</th>\n",
       "      <th>sin</th>\n",
       "      <th>1-cos</th>\n",
       "    </tr>\n",
       "  </thead>\n",
       "  <tbody>\n",
       "    <tr>\n",
       "      <th>0</th>\n",
       "      <td>-10</td>\n",
       "      <td>-0.192</td>\n",
       "      <td>-0.003</td>\n",
       "      <td>-0.173648</td>\n",
       "      <td>0.015192</td>\n",
       "    </tr>\n",
       "    <tr>\n",
       "      <th>1</th>\n",
       "      <td>-5</td>\n",
       "      <td>-0.096</td>\n",
       "      <td>0.000</td>\n",
       "      <td>-0.087156</td>\n",
       "      <td>0.003805</td>\n",
       "    </tr>\n",
       "    <tr>\n",
       "      <th>2</th>\n",
       "      <td>0</td>\n",
       "      <td>0.000</td>\n",
       "      <td>0.000</td>\n",
       "      <td>0.000000</td>\n",
       "      <td>0.000000</td>\n",
       "    </tr>\n",
       "    <tr>\n",
       "      <th>3</th>\n",
       "      <td>5</td>\n",
       "      <td>0.097</td>\n",
       "      <td>-0.001</td>\n",
       "      <td>0.087156</td>\n",
       "      <td>0.003805</td>\n",
       "    </tr>\n",
       "    <tr>\n",
       "      <th>4</th>\n",
       "      <td>10</td>\n",
       "      <td>0.191</td>\n",
       "      <td>-0.003</td>\n",
       "      <td>0.173648</td>\n",
       "      <td>0.015192</td>\n",
       "    </tr>\n",
       "    <tr>\n",
       "      <th>5</th>\n",
       "      <td>15</td>\n",
       "      <td>0.286</td>\n",
       "      <td>-0.009</td>\n",
       "      <td>0.258819</td>\n",
       "      <td>0.034074</td>\n",
       "    </tr>\n",
       "    <tr>\n",
       "      <th>6</th>\n",
       "      <td>20</td>\n",
       "      <td>0.380</td>\n",
       "      <td>-0.013</td>\n",
       "      <td>0.342020</td>\n",
       "      <td>0.060307</td>\n",
       "    </tr>\n",
       "    <tr>\n",
       "      <th>7</th>\n",
       "      <td>25</td>\n",
       "      <td>0.470</td>\n",
       "      <td>-0.019</td>\n",
       "      <td>0.422618</td>\n",
       "      <td>0.093692</td>\n",
       "    </tr>\n",
       "    <tr>\n",
       "      <th>8</th>\n",
       "      <td>30</td>\n",
       "      <td>0.556</td>\n",
       "      <td>-0.025</td>\n",
       "      <td>0.500000</td>\n",
       "      <td>0.133975</td>\n",
       "    </tr>\n",
       "  </tbody>\n",
       "</table>\n",
       "</div>"
      ],
      "text/plain": [
       "   deg   x-x0   y-y0       sin     1-cos\n",
       "0  -10 -0.192 -0.003 -0.173648  0.015192\n",
       "1   -5 -0.096  0.000 -0.087156  0.003805\n",
       "2    0  0.000  0.000  0.000000  0.000000\n",
       "3    5  0.097 -0.001  0.087156  0.003805\n",
       "4   10  0.191 -0.003  0.173648  0.015192\n",
       "5   15  0.286 -0.009  0.258819  0.034074\n",
       "6   20  0.380 -0.013  0.342020  0.060307\n",
       "7   25  0.470 -0.019  0.422618  0.093692\n",
       "8   30  0.556 -0.025  0.500000  0.133975"
      ]
     },
     "metadata": {},
     "output_type": "display_data"
    },
    {
     "data": {
      "text/html": [
       "<div>\n",
       "<style>\n",
       "    .dataframe thead tr:only-child th {\n",
       "        text-align: right;\n",
       "    }\n",
       "\n",
       "    .dataframe thead th {\n",
       "        text-align: left;\n",
       "    }\n",
       "\n",
       "    .dataframe tbody tr th {\n",
       "        vertical-align: top;\n",
       "    }\n",
       "</style>\n",
       "<table border=\"1\" class=\"dataframe\">\n",
       "  <thead>\n",
       "    <tr style=\"text-align: right;\">\n",
       "      <th></th>\n",
       "      <th>deg</th>\n",
       "      <th>x-x0</th>\n",
       "      <th>y-y0</th>\n",
       "      <th>sin</th>\n",
       "      <th>1-cos</th>\n",
       "    </tr>\n",
       "  </thead>\n",
       "  <tbody>\n",
       "    <tr>\n",
       "      <th>0</th>\n",
       "      <td>-10</td>\n",
       "      <td>-0.587</td>\n",
       "      <td>0.943</td>\n",
       "      <td>-0.173648</td>\n",
       "      <td>0.015192</td>\n",
       "    </tr>\n",
       "    <tr>\n",
       "      <th>1</th>\n",
       "      <td>-5</td>\n",
       "      <td>-0.332</td>\n",
       "      <td>0.959</td>\n",
       "      <td>-0.087156</td>\n",
       "      <td>0.003805</td>\n",
       "    </tr>\n",
       "    <tr>\n",
       "      <th>2</th>\n",
       "      <td>0</td>\n",
       "      <td>-0.078</td>\n",
       "      <td>0.965</td>\n",
       "      <td>0.000000</td>\n",
       "      <td>0.000000</td>\n",
       "    </tr>\n",
       "    <tr>\n",
       "      <th>3</th>\n",
       "      <td>5</td>\n",
       "      <td>0.172</td>\n",
       "      <td>0.962</td>\n",
       "      <td>0.087156</td>\n",
       "      <td>0.003805</td>\n",
       "    </tr>\n",
       "    <tr>\n",
       "      <th>4</th>\n",
       "      <td>10</td>\n",
       "      <td>0.424</td>\n",
       "      <td>0.951</td>\n",
       "      <td>0.173648</td>\n",
       "      <td>0.015192</td>\n",
       "    </tr>\n",
       "    <tr>\n",
       "      <th>5</th>\n",
       "      <td>15</td>\n",
       "      <td>0.673</td>\n",
       "      <td>0.931</td>\n",
       "      <td>0.258819</td>\n",
       "      <td>0.034074</td>\n",
       "    </tr>\n",
       "    <tr>\n",
       "      <th>6</th>\n",
       "      <td>20</td>\n",
       "      <td>0.919</td>\n",
       "      <td>0.901</td>\n",
       "      <td>0.342020</td>\n",
       "      <td>0.060307</td>\n",
       "    </tr>\n",
       "    <tr>\n",
       "      <th>7</th>\n",
       "      <td>25</td>\n",
       "      <td>1.156</td>\n",
       "      <td>0.863</td>\n",
       "      <td>0.422618</td>\n",
       "      <td>0.093692</td>\n",
       "    </tr>\n",
       "    <tr>\n",
       "      <th>8</th>\n",
       "      <td>30</td>\n",
       "      <td>1.386</td>\n",
       "      <td>0.816</td>\n",
       "      <td>0.500000</td>\n",
       "      <td>0.133975</td>\n",
       "    </tr>\n",
       "  </tbody>\n",
       "</table>\n",
       "</div>"
      ],
      "text/plain": [
       "   deg   x-x0   y-y0       sin     1-cos\n",
       "0  -10 -0.587  0.943 -0.173648  0.015192\n",
       "1   -5 -0.332  0.959 -0.087156  0.003805\n",
       "2    0 -0.078  0.965  0.000000  0.000000\n",
       "3    5  0.172  0.962  0.087156  0.003805\n",
       "4   10  0.424  0.951  0.173648  0.015192\n",
       "5   15  0.673  0.931  0.258819  0.034074\n",
       "6   20  0.919  0.901  0.342020  0.060307\n",
       "7   25  1.156  0.863  0.422618  0.093692\n",
       "8   30  1.386  0.816  0.500000  0.133975"
      ]
     },
     "metadata": {},
     "output_type": "display_data"
    }
   ],
   "source": [
    "data1['sin'] = np.sin(data1['deg'].values * np.pi / 180)\n",
    "data1['1-cos'] = 1 - np.cos(data1['deg'].values * np.pi /180)\n",
    "data2['sin'] = np.sin(data2['deg'].values * np.pi / 180)\n",
    "data2['1-cos'] = 1 - np.cos(data2['deg'].values * np.pi /180)\n",
    "display(data1)\n",
    "display(data2)"
   ]
  },
  {
   "cell_type": "markdown",
   "metadata": {
    "slideshow": {
     "slide_type": "slide"
    }
   },
   "source": [
    "Используем матрицу коэффициентов весов для определения $X^0$ и $Y^0$"
   ]
  },
  {
   "cell_type": "code",
   "execution_count": 8,
   "metadata": {
    "collapsed": true,
    "slideshow": {
     "slide_type": "skip"
    }
   },
   "outputs": [],
   "source": [
    "coeffMatrix = pd.read_csv(\"dataCoeffMatrix.csv\")"
   ]
  },
  {
   "cell_type": "code",
   "execution_count": 9,
   "metadata": {
    "slideshow": {
     "slide_type": "slide"
    }
   },
   "outputs": [
    {
     "data": {
      "text/html": [
       "<div>\n",
       "<style>\n",
       "    .dataframe thead tr:only-child th {\n",
       "        text-align: right;\n",
       "    }\n",
       "\n",
       "    .dataframe thead th {\n",
       "        text-align: left;\n",
       "    }\n",
       "\n",
       "    .dataframe tbody tr th {\n",
       "        vertical-align: top;\n",
       "    }\n",
       "</style>\n",
       "<table border=\"1\" class=\"dataframe\">\n",
       "  <thead>\n",
       "    <tr style=\"text-align: right;\">\n",
       "      <th></th>\n",
       "      <th>Unnamed: 0</th>\n",
       "      <th>X гс/В</th>\n",
       "      <th>Y гс/В</th>\n",
       "      <th>Mz гс*м/В</th>\n",
       "    </tr>\n",
       "  </thead>\n",
       "  <tbody>\n",
       "    <tr>\n",
       "      <th>0</th>\n",
       "      <td>(U-U0)x</td>\n",
       "      <td>95.6200</td>\n",
       "      <td>0.0000</td>\n",
       "      <td>0.01087</td>\n",
       "    </tr>\n",
       "    <tr>\n",
       "      <th>1</th>\n",
       "      <td>(U-U0)y</td>\n",
       "      <td>6.3390</td>\n",
       "      <td>-237.9000</td>\n",
       "      <td>-0.26620</td>\n",
       "    </tr>\n",
       "    <tr>\n",
       "      <th>2</th>\n",
       "      <td>(U-U0)Mz</td>\n",
       "      <td>-0.6380</td>\n",
       "      <td>22.4900</td>\n",
       "      <td>-2.47600</td>\n",
       "    </tr>\n",
       "    <tr>\n",
       "      <th>3</th>\n",
       "      <td>(U-U0)x2</td>\n",
       "      <td>0.7573</td>\n",
       "      <td>2.9016</td>\n",
       "      <td>-0.22790</td>\n",
       "    </tr>\n",
       "    <tr>\n",
       "      <th>4</th>\n",
       "      <td>(U-U0)x * (U-U0)y</td>\n",
       "      <td>0.0000</td>\n",
       "      <td>1.0620</td>\n",
       "      <td>0.00000</td>\n",
       "    </tr>\n",
       "    <tr>\n",
       "      <th>5</th>\n",
       "      <td>(U-U0)x * (U-U0)Mz</td>\n",
       "      <td>0.0000</td>\n",
       "      <td>0.0000</td>\n",
       "      <td>0.00000</td>\n",
       "    </tr>\n",
       "    <tr>\n",
       "      <th>6</th>\n",
       "      <td>(U-U0)y2</td>\n",
       "      <td>0.8706</td>\n",
       "      <td>1.5870</td>\n",
       "      <td>-0.00378</td>\n",
       "    </tr>\n",
       "    <tr>\n",
       "      <th>7</th>\n",
       "      <td>(U-U0)y * (U-U0)Mz</td>\n",
       "      <td>0.2709</td>\n",
       "      <td>-1.4380</td>\n",
       "      <td>0.00000</td>\n",
       "    </tr>\n",
       "    <tr>\n",
       "      <th>8</th>\n",
       "      <td>(U-U0)Mz2</td>\n",
       "      <td>0.1250</td>\n",
       "      <td>0.8420</td>\n",
       "      <td>-0.00315</td>\n",
       "    </tr>\n",
       "  </tbody>\n",
       "</table>\n",
       "</div>"
      ],
      "text/plain": [
       "           Unnamed: 0   X гс/В    Y гс/В  Mz гс*м/В\n",
       "0             (U-U0)x  95.6200    0.0000    0.01087\n",
       "1             (U-U0)y   6.3390 -237.9000   -0.26620\n",
       "2            (U-U0)Mz  -0.6380   22.4900   -2.47600\n",
       "3            (U-U0)x2   0.7573    2.9016   -0.22790\n",
       "4   (U-U0)x * (U-U0)y   0.0000    1.0620    0.00000\n",
       "5  (U-U0)x * (U-U0)Mz   0.0000    0.0000    0.00000\n",
       "6            (U-U0)y2   0.8706    1.5870   -0.00378\n",
       "7  (U-U0)y * (U-U0)Mz   0.2709   -1.4380    0.00000\n",
       "8           (U-U0)Mz2   0.1250    0.8420   -0.00315"
      ]
     },
     "execution_count": 9,
     "metadata": {},
     "output_type": "execute_result"
    }
   ],
   "source": [
    "coeffMatrix"
   ]
  },
  {
   "cell_type": "code",
   "execution_count": 10,
   "metadata": {
    "slideshow": {
     "slide_type": "skip"
    }
   },
   "outputs": [
    {
     "data": {
      "text/html": [
       "<div>\n",
       "<style>\n",
       "    .dataframe thead tr:only-child th {\n",
       "        text-align: right;\n",
       "    }\n",
       "\n",
       "    .dataframe thead th {\n",
       "        text-align: left;\n",
       "    }\n",
       "\n",
       "    .dataframe tbody tr th {\n",
       "        vertical-align: top;\n",
       "    }\n",
       "</style>\n",
       "<table border=\"1\" class=\"dataframe\">\n",
       "  <thead>\n",
       "    <tr style=\"text-align: right;\">\n",
       "      <th></th>\n",
       "      <th>Unnamed: 0</th>\n",
       "      <th>X гс/В</th>\n",
       "      <th>Y гс/В</th>\n",
       "    </tr>\n",
       "  </thead>\n",
       "  <tbody>\n",
       "    <tr>\n",
       "      <th>0</th>\n",
       "      <td>(U-U0)x</td>\n",
       "      <td>95.6200</td>\n",
       "      <td>0.0000</td>\n",
       "    </tr>\n",
       "    <tr>\n",
       "      <th>1</th>\n",
       "      <td>(U-U0)y</td>\n",
       "      <td>6.3390</td>\n",
       "      <td>-237.9000</td>\n",
       "    </tr>\n",
       "    <tr>\n",
       "      <th>2</th>\n",
       "      <td>(U-U0)Mz</td>\n",
       "      <td>-0.6380</td>\n",
       "      <td>22.4900</td>\n",
       "    </tr>\n",
       "    <tr>\n",
       "      <th>3</th>\n",
       "      <td>(U-U0)x2</td>\n",
       "      <td>0.7573</td>\n",
       "      <td>2.9016</td>\n",
       "    </tr>\n",
       "    <tr>\n",
       "      <th>4</th>\n",
       "      <td>(U-U0)x * (U-U0)y</td>\n",
       "      <td>0.0000</td>\n",
       "      <td>1.0620</td>\n",
       "    </tr>\n",
       "    <tr>\n",
       "      <th>5</th>\n",
       "      <td>(U-U0)x * (U-U0)Mz</td>\n",
       "      <td>0.0000</td>\n",
       "      <td>0.0000</td>\n",
       "    </tr>\n",
       "    <tr>\n",
       "      <th>6</th>\n",
       "      <td>(U-U0)y2</td>\n",
       "      <td>0.8706</td>\n",
       "      <td>1.5870</td>\n",
       "    </tr>\n",
       "    <tr>\n",
       "      <th>7</th>\n",
       "      <td>(U-U0)y * (U-U0)Mz</td>\n",
       "      <td>0.2709</td>\n",
       "      <td>-1.4380</td>\n",
       "    </tr>\n",
       "    <tr>\n",
       "      <th>8</th>\n",
       "      <td>(U-U0)Mz2</td>\n",
       "      <td>0.1250</td>\n",
       "      <td>0.8420</td>\n",
       "    </tr>\n",
       "  </tbody>\n",
       "</table>\n",
       "</div>"
      ],
      "text/plain": [
       "           Unnamed: 0   X гс/В    Y гс/В\n",
       "0             (U-U0)x  95.6200    0.0000\n",
       "1             (U-U0)y   6.3390 -237.9000\n",
       "2            (U-U0)Mz  -0.6380   22.4900\n",
       "3            (U-U0)x2   0.7573    2.9016\n",
       "4   (U-U0)x * (U-U0)y   0.0000    1.0620\n",
       "5  (U-U0)x * (U-U0)Mz   0.0000    0.0000\n",
       "6            (U-U0)y2   0.8706    1.5870\n",
       "7  (U-U0)y * (U-U0)Mz   0.2709   -1.4380\n",
       "8           (U-U0)Mz2   0.1250    0.8420"
      ]
     },
     "execution_count": 10,
     "metadata": {},
     "output_type": "execute_result"
    }
   ],
   "source": [
    "#print coeffMatrix.iloc[:, 1]\n",
    "#print coeffMatrix.iloc[:, 2]\n",
    "coeffMatrix.iloc[:, [0,1,2]]"
   ]
  },
  {
   "cell_type": "code",
   "execution_count": 11,
   "metadata": {
    "collapsed": true,
    "slideshow": {
     "slide_type": "skip"
    }
   },
   "outputs": [],
   "source": [
    "def getX(row):\n",
    "    ce = coeffMatrix.iloc[:, 1].values\n",
    "    x = row['x-x0']\n",
    "    y = row['y-y0']\n",
    "    ar = np.zeros(5)\n",
    "    ar[0] = x * ce[0]\n",
    "    ar[1] = y * ce[1]\n",
    "    ar[2] = x**2 * ce[3]\n",
    "    ar[3] = x * y * ce[4]\n",
    "    ar[4] = y**2 * ce[6]\n",
    "    return ar.sum()\n",
    "\n",
    "def getY(row):\n",
    "    ce = coeffMatrix.iloc[:, 2].values\n",
    "    x = row['x-x0']\n",
    "    y = row['y-y0']\n",
    "    ar = np.zeros(5)\n",
    "    ar[0] = x * ce[0]\n",
    "    ar[1] = y * ce[1]\n",
    "    ar[2] = x**2 * ce[3]\n",
    "    ar[3] = x * y * ce[4]\n",
    "    ar[4] = y**2 * ce[6]\n",
    "    return ar.sum()"
   ]
  },
  {
   "cell_type": "markdown",
   "metadata": {
    "slideshow": {
     "slide_type": "slide"
    }
   },
   "source": [
    "Используем уравнения измерения тензодинамометра, чтобы посчитать $X_j^0$ и $Y_j^0$\n",
    "\n",
    "$X_j = \\sum\\limits_{i=1}^n B_{j,i}N_{i} + \\sum\\limits_{i=1}^n B_{j,ii}N_{i}^2 + \\sum\\limits_{p=1}^{n-1}\\sum\\limits_{q=p+1}^n B_{j,pq}N_{p}N_{q}$"
   ]
  },
  {
   "cell_type": "code",
   "execution_count": 12,
   "metadata": {
    "collapsed": true,
    "slideshow": {
     "slide_type": "skip"
    }
   },
   "outputs": [],
   "source": [
    "data1['X'] = data1.apply(getX, axis=1)\n",
    "data1['Y'] = data1.apply(getY, axis=1)\n",
    "data2['X'] = data2.apply(getX, axis=1)\n",
    "data2['Y'] = data2.apply(getY, axis=1)"
   ]
  },
  {
   "cell_type": "code",
   "execution_count": 13,
   "metadata": {
    "collapsed": true,
    "slideshow": {
     "slide_type": "skip"
    }
   },
   "outputs": [],
   "source": [
    "#data1.drop('X', axis=1, inplace=True)\n",
    "#data1.drop('Y', axis=1, inplace=True)"
   ]
  },
  {
   "cell_type": "code",
   "execution_count": 14,
   "metadata": {
    "slideshow": {
     "slide_type": "slide"
    }
   },
   "outputs": [
    {
     "data": {
      "text/html": [
       "<div>\n",
       "<style>\n",
       "    .dataframe thead tr:only-child th {\n",
       "        text-align: right;\n",
       "    }\n",
       "\n",
       "    .dataframe thead th {\n",
       "        text-align: left;\n",
       "    }\n",
       "\n",
       "    .dataframe tbody tr th {\n",
       "        vertical-align: top;\n",
       "    }\n",
       "</style>\n",
       "<table border=\"1\" class=\"dataframe\">\n",
       "  <thead>\n",
       "    <tr style=\"text-align: right;\">\n",
       "      <th></th>\n",
       "      <th>deg</th>\n",
       "      <th>x-x0</th>\n",
       "      <th>y-y0</th>\n",
       "      <th>sin</th>\n",
       "      <th>1-cos</th>\n",
       "      <th>X</th>\n",
       "      <th>Y</th>\n",
       "    </tr>\n",
       "  </thead>\n",
       "  <tbody>\n",
       "    <tr>\n",
       "      <th>0</th>\n",
       "      <td>-10</td>\n",
       "      <td>-0.192</td>\n",
       "      <td>-0.003</td>\n",
       "      <td>-0.173648</td>\n",
       "      <td>0.015192</td>\n",
       "      <td>-18.350132</td>\n",
       "      <td>0.821291</td>\n",
       "    </tr>\n",
       "    <tr>\n",
       "      <th>1</th>\n",
       "      <td>-5</td>\n",
       "      <td>-0.096</td>\n",
       "      <td>0.000</td>\n",
       "      <td>-0.087156</td>\n",
       "      <td>0.003805</td>\n",
       "      <td>-9.172541</td>\n",
       "      <td>0.026741</td>\n",
       "    </tr>\n",
       "    <tr>\n",
       "      <th>2</th>\n",
       "      <td>0</td>\n",
       "      <td>0.000</td>\n",
       "      <td>0.000</td>\n",
       "      <td>0.000000</td>\n",
       "      <td>0.000000</td>\n",
       "      <td>0.000000</td>\n",
       "      <td>0.000000</td>\n",
       "    </tr>\n",
       "    <tr>\n",
       "      <th>3</th>\n",
       "      <td>5</td>\n",
       "      <td>0.097</td>\n",
       "      <td>-0.001</td>\n",
       "      <td>0.087156</td>\n",
       "      <td>0.003805</td>\n",
       "      <td>9.275927</td>\n",
       "      <td>0.265100</td>\n",
       "    </tr>\n",
       "    <tr>\n",
       "      <th>4</th>\n",
       "      <td>10</td>\n",
       "      <td>0.191</td>\n",
       "      <td>-0.003</td>\n",
       "      <td>0.173648</td>\n",
       "      <td>0.015192</td>\n",
       "      <td>18.272038</td>\n",
       "      <td>0.818959</td>\n",
       "    </tr>\n",
       "    <tr>\n",
       "      <th>5</th>\n",
       "      <td>15</td>\n",
       "      <td>0.286</td>\n",
       "      <td>-0.009</td>\n",
       "      <td>0.258819</td>\n",
       "      <td>0.034074</td>\n",
       "      <td>27.352284</td>\n",
       "      <td>2.375834</td>\n",
       "    </tr>\n",
       "    <tr>\n",
       "      <th>6</th>\n",
       "      <td>20</td>\n",
       "      <td>0.380</td>\n",
       "      <td>-0.013</td>\n",
       "      <td>0.342020</td>\n",
       "      <td>0.060307</td>\n",
       "      <td>36.362694</td>\n",
       "      <td>3.506713</td>\n",
       "    </tr>\n",
       "    <tr>\n",
       "      <th>7</th>\n",
       "      <td>25</td>\n",
       "      <td>0.470</td>\n",
       "      <td>-0.019</td>\n",
       "      <td>0.422618</td>\n",
       "      <td>0.093692</td>\n",
       "      <td>44.988561</td>\n",
       "      <td>5.152153</td>\n",
       "    </tr>\n",
       "    <tr>\n",
       "      <th>8</th>\n",
       "      <td>30</td>\n",
       "      <td>0.556</td>\n",
       "      <td>-0.025</td>\n",
       "      <td>0.500000</td>\n",
       "      <td>0.133975</td>\n",
       "      <td>53.240898</td>\n",
       "      <td>6.830719</td>\n",
       "    </tr>\n",
       "  </tbody>\n",
       "</table>\n",
       "</div>"
      ],
      "text/plain": [
       "   deg   x-x0   y-y0       sin     1-cos          X         Y\n",
       "0  -10 -0.192 -0.003 -0.173648  0.015192 -18.350132  0.821291\n",
       "1   -5 -0.096  0.000 -0.087156  0.003805  -9.172541  0.026741\n",
       "2    0  0.000  0.000  0.000000  0.000000   0.000000  0.000000\n",
       "3    5  0.097 -0.001  0.087156  0.003805   9.275927  0.265100\n",
       "4   10  0.191 -0.003  0.173648  0.015192  18.272038  0.818959\n",
       "5   15  0.286 -0.009  0.258819  0.034074  27.352284  2.375834\n",
       "6   20  0.380 -0.013  0.342020  0.060307  36.362694  3.506713\n",
       "7   25  0.470 -0.019  0.422618  0.093692  44.988561  5.152153\n",
       "8   30  0.556 -0.025  0.500000  0.133975  53.240898  6.830719"
      ]
     },
     "metadata": {},
     "output_type": "display_data"
    },
    {
     "data": {
      "text/html": [
       "<div>\n",
       "<style>\n",
       "    .dataframe thead tr:only-child th {\n",
       "        text-align: right;\n",
       "    }\n",
       "\n",
       "    .dataframe thead th {\n",
       "        text-align: left;\n",
       "    }\n",
       "\n",
       "    .dataframe tbody tr th {\n",
       "        vertical-align: top;\n",
       "    }\n",
       "</style>\n",
       "<table border=\"1\" class=\"dataframe\">\n",
       "  <thead>\n",
       "    <tr style=\"text-align: right;\">\n",
       "      <th></th>\n",
       "      <th>deg</th>\n",
       "      <th>x-x0</th>\n",
       "      <th>y-y0</th>\n",
       "      <th>sin</th>\n",
       "      <th>1-cos</th>\n",
       "      <th>X</th>\n",
       "      <th>Y</th>\n",
       "    </tr>\n",
       "  </thead>\n",
       "  <tbody>\n",
       "    <tr>\n",
       "      <th>0</th>\n",
       "      <td>-10</td>\n",
       "      <td>-0.587</td>\n",
       "      <td>0.943</td>\n",
       "      <td>-0.173648</td>\n",
       "      <td>0.015192</td>\n",
       "      <td>-49.116141</td>\n",
       "      <td>-222.516521</td>\n",
       "    </tr>\n",
       "    <tr>\n",
       "      <th>1</th>\n",
       "      <td>-5</td>\n",
       "      <td>-0.332</td>\n",
       "      <td>0.959</td>\n",
       "      <td>-0.087156</td>\n",
       "      <td>0.003805</td>\n",
       "      <td>-24.782592</td>\n",
       "      <td>-226.704868</td>\n",
       "    </tr>\n",
       "    <tr>\n",
       "      <th>2</th>\n",
       "      <td>0</td>\n",
       "      <td>-0.078</td>\n",
       "      <td>0.965</td>\n",
       "      <td>0.000000</td>\n",
       "      <td>0.000000</td>\n",
       "      <td>-0.525893</td>\n",
       "      <td>-228.157929</td>\n",
       "    </tr>\n",
       "    <tr>\n",
       "      <th>3</th>\n",
       "      <td>5</td>\n",
       "      <td>0.172</td>\n",
       "      <td>0.962</td>\n",
       "      <td>0.087156</td>\n",
       "      <td>0.003805</td>\n",
       "      <td>23.372854</td>\n",
       "      <td>-227.129557</td>\n",
       "    </tr>\n",
       "    <tr>\n",
       "      <th>4</th>\n",
       "      <td>10</td>\n",
       "      <td>0.424</td>\n",
       "      <td>0.951</td>\n",
       "      <td>0.173648</td>\n",
       "      <td>0.015192</td>\n",
       "      <td>47.494785</td>\n",
       "      <td>-223.857754</td>\n",
       "    </tr>\n",
       "    <tr>\n",
       "      <th>5</th>\n",
       "      <td>15</td>\n",
       "      <td>0.673</td>\n",
       "      <td>0.931</td>\n",
       "      <td>0.258819</td>\n",
       "      <td>0.034074</td>\n",
       "      <td>71.351474</td>\n",
       "      <td>-218.129722</td>\n",
       "    </tr>\n",
       "    <tr>\n",
       "      <th>6</th>\n",
       "      <td>20</td>\n",
       "      <td>0.919</td>\n",
       "      <td>0.901</td>\n",
       "      <td>0.342020</td>\n",
       "      <td>0.060307</td>\n",
       "      <td>94.932559</td>\n",
       "      <td>-209.729637</td>\n",
       "    </tr>\n",
       "    <tr>\n",
       "      <th>7</th>\n",
       "      <td>25</td>\n",
       "      <td>1.156</td>\n",
       "      <td>0.863</td>\n",
       "      <td>0.422618</td>\n",
       "      <td>0.093692</td>\n",
       "      <td>117.667680</td>\n",
       "      <td>-199.188758</td>\n",
       "    </tr>\n",
       "    <tr>\n",
       "      <th>8</th>\n",
       "      <td>30</td>\n",
       "      <td>1.386</td>\n",
       "      <td>0.816</td>\n",
       "      <td>0.500000</td>\n",
       "      <td>0.133975</td>\n",
       "      <td>139.736409</td>\n",
       "      <td>-186.294628</td>\n",
       "    </tr>\n",
       "  </tbody>\n",
       "</table>\n",
       "</div>"
      ],
      "text/plain": [
       "   deg   x-x0   y-y0       sin     1-cos           X           Y\n",
       "0  -10 -0.587  0.943 -0.173648  0.015192  -49.116141 -222.516521\n",
       "1   -5 -0.332  0.959 -0.087156  0.003805  -24.782592 -226.704868\n",
       "2    0 -0.078  0.965  0.000000  0.000000   -0.525893 -228.157929\n",
       "3    5  0.172  0.962  0.087156  0.003805   23.372854 -227.129557\n",
       "4   10  0.424  0.951  0.173648  0.015192   47.494785 -223.857754\n",
       "5   15  0.673  0.931  0.258819  0.034074   71.351474 -218.129722\n",
       "6   20  0.919  0.901  0.342020  0.060307   94.932559 -209.729637\n",
       "7   25  1.156  0.863  0.422618  0.093692  117.667680 -199.188758\n",
       "8   30  1.386  0.816  0.500000  0.133975  139.736409 -186.294628"
      ]
     },
     "metadata": {},
     "output_type": "display_data"
    }
   ],
   "source": [
    "display(data1)\n",
    "display(data2)"
   ]
  },
  {
   "cell_type": "markdown",
   "metadata": {
    "slideshow": {
     "slide_type": "slide"
    }
   },
   "source": [
    "Строим прямую"
   ]
  },
  {
   "cell_type": "code",
   "execution_count": 15,
   "metadata": {
    "collapsed": true,
    "slideshow": {
     "slide_type": "skip"
    }
   },
   "outputs": [],
   "source": [
    "linX1 = mnk.LabMNK(data1.loc[:, 'sin'].values, data1.loc[:, 'X'].values)\n",
    "linY1 = mnk.LabMNK(data1.loc[:, '1-cos'].values, data1.loc[:, 'Y'].values)\n",
    "\n",
    "linX2 = mnk.LabMNK(data2.loc[:, 'sin'].values, data2.loc[:, 'X'].values)\n",
    "linY2 = mnk.LabMNK(data2.loc[:, '1-cos'].values, data2.loc[:, 'Y'].values)"
   ]
  },
  {
   "cell_type": "code",
   "execution_count": 16,
   "metadata": {
    "slideshow": {
     "slide_type": "skip"
    }
   },
   "outputs": [
    {
     "name": "stdout",
     "output_type": "stream",
     "text": [
      "106.2 gramms calculated on X1 \n",
      "52.5 gramms calculated on Y1\n",
      "\n",
      "\n",
      "279.9 gramms calculated on X2 \n",
      "310.4 gramms calculated on Y2\n"
     ]
    }
   ],
   "source": [
    "(Ax1, Bx1) = linX1.coeffAB()\n",
    "(Ay1, By1) = linY1.coeffAB()\n",
    "#print (Ax1, Bx1), '\\n', (Ay1, By1)\n",
    "print '{} gramms calculated on X1 \\n{} gramms calculated on Y1'.format(round(Ax1, 1), round(Ay1, 1))\n",
    "print \"\\n\"\n",
    "(Ax2, Bx2) = linX2.coeffAB()\n",
    "(Ay2, By2) = linY2.coeffAB()\n",
    "#print (Ax2, Bx2), '\\n', (Ay2, By2)\n",
    "print '{} gramms calculated on X2 \\n{} gramms calculated on Y2'.format(round(Ax2, 1), round(Ay2, 1))"
   ]
  },
  {
   "cell_type": "code",
   "execution_count": 17,
   "metadata": {
    "slideshow": {
     "slide_type": "slide"
    }
   },
   "outputs": [
    {
     "data": {
      "image/png": "[encoded data removed]",
      "text/plain": [
       "<matplotlib.figure.Figure at 0x7f4549e244d0>"
      ]
     },
     "metadata": {},
     "output_type": "display_data"
    },
    {
     "data": {
      "image/png": "[encoded data removed]",
      "text/plain": [
       "<matplotlib.figure.Figure at 0x7f4549e24b10>"
      ]
     },
     "metadata": {},
     "output_type": "display_data"
    }
   ],
   "source": [
    "linX1.simplePlot(xlabel=\"sin\", ylabel=\"X\", title=linX1.getEquation(round_val=2))\n",
    "linY1.simplePlot(xlabel=\"1-cos\", ylabel=\"Y\", title=linY1.getEquation(round_val=2))"
   ]
  },
  {
   "cell_type": "code",
   "execution_count": 18,
   "metadata": {
    "slideshow": {
     "slide_type": "slide"
    }
   },
   "outputs": [
    {
     "data": {
      "image/png": "[encoded data removed]",
      "text/plain": [
       "<matplotlib.figure.Figure at 0x7f45431a7110>"
      ]
     },
     "metadata": {},
     "output_type": "display_data"
    },
    {
     "data": {
      "image/png": "[encoded data removed]",
      "text/plain": [
       "<matplotlib.figure.Figure at 0x7f45430f7d90>"
      ]
     },
     "metadata": {},
     "output_type": "display_data"
    }
   ],
   "source": [
    "linX2.simplePlot(xlabel=\"sin\", ylabel=\"X\", title=linX2.getEquation(round_val=2))\n",
    "linY2.simplePlot(xlabel=\"1-cos\", ylabel=\"Y\", title=linY2.getEquation(round_val=2))"
   ]
  },
  {
   "cell_type": "markdown",
   "metadata": {
    "slideshow": {
     "slide_type": "slide"
    }
   },
   "source": [
    "Из первого набора данных мы определили вес компонентов тензовесов, \n",
    "а из второго мы определили суммарный вес компонентов и вес сферы."
   ]
  },
  {
   "cell_type": "code",
   "execution_count": 19,
   "metadata": {
    "collapsed": true,
    "slideshow": {
     "slide_type": "skip"
    }
   },
   "outputs": [],
   "source": [
    "Gmx = Ax2 - Ax1\n",
    "Gmy = Ay2 - Ay1"
   ]
  },
  {
   "cell_type": "code",
   "execution_count": 20,
   "metadata": {
    "slideshow": {
     "slide_type": "slide"
    }
   },
   "outputs": [
    {
     "name": "stdout",
     "output_type": "stream",
     "text": [
      "173.62 gramms calculated on X\n",
      "257.94 gramms calculated on Y\n"
     ]
    }
   ],
   "source": [
    "print \"{} gramms calculated on X\".format(round(Gmx, 2))\n",
    "print \"{} gramms calculated on Y\".format(round(Gmy, 2))"
   ]
  },
  {
   "cell_type": "markdown",
   "metadata": {
    "slideshow": {
     "slide_type": "slide"
    }
   },
   "source": [
    "Итого получается, что вес сферы определенный с помощью X компоненты = **173 грамма** (что сходится с реальными данными),\n",
    "вес определенный с помощью Y компоненты существенно отличается от реальных данных, т.к. Y компонента изменялась на достаточно малые величины, соответственно имеем достаточно большую ошибку."
   ]
  },
  {
   "cell_type": "code",
   "execution_count": 21,
   "metadata": {
    "collapsed": true,
    "slideshow": {
     "slide_type": "skip"
    }
   },
   "outputs": [],
   "source": [
    "data3 = pd.read_csv(\"data3p.csv\")"
   ]
  },
  {
   "cell_type": "code",
   "execution_count": 22,
   "metadata": {
    "slideshow": {
     "slide_type": "skip"
    }
   },
   "outputs": [
    {
     "data": {
      "text/html": [
       "<div>\n",
       "<style>\n",
       "    .dataframe thead tr:only-child th {\n",
       "        text-align: right;\n",
       "    }\n",
       "\n",
       "    .dataframe thead th {\n",
       "        text-align: left;\n",
       "    }\n",
       "\n",
       "    .dataframe tbody tr th {\n",
       "        vertical-align: top;\n",
       "    }\n",
       "</style>\n",
       "<table border=\"1\" class=\"dataframe\">\n",
       "  <thead>\n",
       "    <tr style=\"text-align: right;\">\n",
       "      <th></th>\n",
       "      <th>Unnamed: 0</th>\n",
       "      <th>dP</th>\n",
       "      <th>x</th>\n",
       "      <th>y</th>\n",
       "    </tr>\n",
       "  </thead>\n",
       "  <tbody>\n",
       "    <tr>\n",
       "      <th>0</th>\n",
       "      <td>15</td>\n",
       "      <td>40.90</td>\n",
       "      <td>0.560</td>\n",
       "      <td>1.30</td>\n",
       "    </tr>\n",
       "    <tr>\n",
       "      <th>1</th>\n",
       "      <td>20</td>\n",
       "      <td>77.70</td>\n",
       "      <td>0.603</td>\n",
       "      <td>1.31</td>\n",
       "    </tr>\n",
       "    <tr>\n",
       "      <th>2</th>\n",
       "      <td>25</td>\n",
       "      <td>128.16</td>\n",
       "      <td>0.605</td>\n",
       "      <td>1.31</td>\n",
       "    </tr>\n",
       "    <tr>\n",
       "      <th>3</th>\n",
       "      <td>30</td>\n",
       "      <td>189.61</td>\n",
       "      <td>0.720</td>\n",
       "      <td>1.31</td>\n",
       "    </tr>\n",
       "    <tr>\n",
       "      <th>4</th>\n",
       "      <td>35</td>\n",
       "      <td>261.12</td>\n",
       "      <td>0.800</td>\n",
       "      <td>1.31</td>\n",
       "    </tr>\n",
       "    <tr>\n",
       "      <th>5</th>\n",
       "      <td>40</td>\n",
       "      <td>345.16</td>\n",
       "      <td>0.890</td>\n",
       "      <td>1.31</td>\n",
       "    </tr>\n",
       "    <tr>\n",
       "      <th>6</th>\n",
       "      <td>45</td>\n",
       "      <td>441.69</td>\n",
       "      <td>1.005</td>\n",
       "      <td>1.31</td>\n",
       "    </tr>\n",
       "    <tr>\n",
       "      <th>7</th>\n",
       "      <td>50</td>\n",
       "      <td>561.48</td>\n",
       "      <td>1.130</td>\n",
       "      <td>1.31</td>\n",
       "    </tr>\n",
       "  </tbody>\n",
       "</table>\n",
       "</div>"
      ],
      "text/plain": [
       "   Unnamed: 0      dP      x     y\n",
       "0          15   40.90  0.560  1.30\n",
       "1          20   77.70  0.603  1.31\n",
       "2          25  128.16  0.605  1.31\n",
       "3          30  189.61  0.720  1.31\n",
       "4          35  261.12  0.800  1.31\n",
       "5          40  345.16  0.890  1.31\n",
       "6          45  441.69  1.005  1.31\n",
       "7          50  561.48  1.130  1.31"
      ]
     },
     "execution_count": 22,
     "metadata": {},
     "output_type": "execute_result"
    }
   ],
   "source": [
    "data3"
   ]
  },
  {
   "cell_type": "code",
   "execution_count": 23,
   "metadata": {
    "collapsed": true,
    "slideshow": {
     "slide_type": "skip"
    }
   },
   "outputs": [],
   "source": [
    "data3['x'] = data3['x'].values - x_nul\n",
    "data3['y'] = data3['y'].values - y_nul\n",
    "data3.rename(columns={'x' : 'x-x0', 'y' : 'y-y0'}, inplace=True)"
   ]
  },
  {
   "cell_type": "code",
   "execution_count": 24,
   "metadata": {
    "slideshow": {
     "slide_type": "skip"
    }
   },
   "outputs": [
    {
     "data": {
      "text/html": [
       "<div>\n",
       "<style>\n",
       "    .dataframe thead tr:only-child th {\n",
       "        text-align: right;\n",
       "    }\n",
       "\n",
       "    .dataframe thead th {\n",
       "        text-align: left;\n",
       "    }\n",
       "\n",
       "    .dataframe tbody tr th {\n",
       "        vertical-align: top;\n",
       "    }\n",
       "</style>\n",
       "<table border=\"1\" class=\"dataframe\">\n",
       "  <thead>\n",
       "    <tr style=\"text-align: right;\">\n",
       "      <th></th>\n",
       "      <th>Unnamed: 0</th>\n",
       "      <th>dP</th>\n",
       "      <th>x-x0</th>\n",
       "      <th>y-y0</th>\n",
       "    </tr>\n",
       "  </thead>\n",
       "  <tbody>\n",
       "    <tr>\n",
       "      <th>0</th>\n",
       "      <td>15</td>\n",
       "      <td>40.90</td>\n",
       "      <td>-0.049</td>\n",
       "      <td>0.963</td>\n",
       "    </tr>\n",
       "    <tr>\n",
       "      <th>1</th>\n",
       "      <td>20</td>\n",
       "      <td>77.70</td>\n",
       "      <td>-0.006</td>\n",
       "      <td>0.973</td>\n",
       "    </tr>\n",
       "    <tr>\n",
       "      <th>2</th>\n",
       "      <td>25</td>\n",
       "      <td>128.16</td>\n",
       "      <td>-0.004</td>\n",
       "      <td>0.973</td>\n",
       "    </tr>\n",
       "    <tr>\n",
       "      <th>3</th>\n",
       "      <td>30</td>\n",
       "      <td>189.61</td>\n",
       "      <td>0.111</td>\n",
       "      <td>0.973</td>\n",
       "    </tr>\n",
       "    <tr>\n",
       "      <th>4</th>\n",
       "      <td>35</td>\n",
       "      <td>261.12</td>\n",
       "      <td>0.191</td>\n",
       "      <td>0.973</td>\n",
       "    </tr>\n",
       "    <tr>\n",
       "      <th>5</th>\n",
       "      <td>40</td>\n",
       "      <td>345.16</td>\n",
       "      <td>0.281</td>\n",
       "      <td>0.973</td>\n",
       "    </tr>\n",
       "    <tr>\n",
       "      <th>6</th>\n",
       "      <td>45</td>\n",
       "      <td>441.69</td>\n",
       "      <td>0.396</td>\n",
       "      <td>0.973</td>\n",
       "    </tr>\n",
       "    <tr>\n",
       "      <th>7</th>\n",
       "      <td>50</td>\n",
       "      <td>561.48</td>\n",
       "      <td>0.521</td>\n",
       "      <td>0.973</td>\n",
       "    </tr>\n",
       "  </tbody>\n",
       "</table>\n",
       "</div>"
      ],
      "text/plain": [
       "   Unnamed: 0      dP   x-x0   y-y0\n",
       "0          15   40.90 -0.049  0.963\n",
       "1          20   77.70 -0.006  0.973\n",
       "2          25  128.16 -0.004  0.973\n",
       "3          30  189.61  0.111  0.973\n",
       "4          35  261.12  0.191  0.973\n",
       "5          40  345.16  0.281  0.973\n",
       "6          45  441.69  0.396  0.973\n",
       "7          50  561.48  0.521  0.973"
      ]
     },
     "execution_count": 24,
     "metadata": {},
     "output_type": "execute_result"
    }
   ],
   "source": [
    "data3"
   ]
  },
  {
   "cell_type": "markdown",
   "metadata": {
    "slideshow": {
     "slide_type": "slide"
    }
   },
   "source": [
    "$dP = P_0 - P_{ст} => Q = dP$ "
   ]
  },
  {
   "cell_type": "code",
   "execution_count": 25,
   "metadata": {
    "slideshow": {
     "slide_type": "slide"
    }
   },
   "outputs": [
    {
     "data": {
      "text/html": [
       "<div>\n",
       "<style>\n",
       "    .dataframe thead tr:only-child th {\n",
       "        text-align: right;\n",
       "    }\n",
       "\n",
       "    .dataframe thead th {\n",
       "        text-align: left;\n",
       "    }\n",
       "\n",
       "    .dataframe tbody tr th {\n",
       "        vertical-align: top;\n",
       "    }\n",
       "</style>\n",
       "<table border=\"1\" class=\"dataframe\">\n",
       "  <thead>\n",
       "    <tr style=\"text-align: right;\">\n",
       "      <th></th>\n",
       "      <th>Unnamed: 0</th>\n",
       "      <th>dP</th>\n",
       "      <th>x-x0</th>\n",
       "      <th>y-y0</th>\n",
       "      <th>Q</th>\n",
       "    </tr>\n",
       "  </thead>\n",
       "  <tbody>\n",
       "    <tr>\n",
       "      <th>0</th>\n",
       "      <td>15</td>\n",
       "      <td>40.90</td>\n",
       "      <td>-0.049</td>\n",
       "      <td>0.963</td>\n",
       "      <td>40.90</td>\n",
       "    </tr>\n",
       "    <tr>\n",
       "      <th>1</th>\n",
       "      <td>20</td>\n",
       "      <td>77.70</td>\n",
       "      <td>-0.006</td>\n",
       "      <td>0.973</td>\n",
       "      <td>77.70</td>\n",
       "    </tr>\n",
       "    <tr>\n",
       "      <th>2</th>\n",
       "      <td>25</td>\n",
       "      <td>128.16</td>\n",
       "      <td>-0.004</td>\n",
       "      <td>0.973</td>\n",
       "      <td>128.16</td>\n",
       "    </tr>\n",
       "    <tr>\n",
       "      <th>3</th>\n",
       "      <td>30</td>\n",
       "      <td>189.61</td>\n",
       "      <td>0.111</td>\n",
       "      <td>0.973</td>\n",
       "      <td>189.61</td>\n",
       "    </tr>\n",
       "    <tr>\n",
       "      <th>4</th>\n",
       "      <td>35</td>\n",
       "      <td>261.12</td>\n",
       "      <td>0.191</td>\n",
       "      <td>0.973</td>\n",
       "      <td>261.12</td>\n",
       "    </tr>\n",
       "    <tr>\n",
       "      <th>5</th>\n",
       "      <td>40</td>\n",
       "      <td>345.16</td>\n",
       "      <td>0.281</td>\n",
       "      <td>0.973</td>\n",
       "      <td>345.16</td>\n",
       "    </tr>\n",
       "    <tr>\n",
       "      <th>6</th>\n",
       "      <td>45</td>\n",
       "      <td>441.69</td>\n",
       "      <td>0.396</td>\n",
       "      <td>0.973</td>\n",
       "      <td>441.69</td>\n",
       "    </tr>\n",
       "    <tr>\n",
       "      <th>7</th>\n",
       "      <td>50</td>\n",
       "      <td>561.48</td>\n",
       "      <td>0.521</td>\n",
       "      <td>0.973</td>\n",
       "      <td>561.48</td>\n",
       "    </tr>\n",
       "  </tbody>\n",
       "</table>\n",
       "</div>"
      ],
      "text/plain": [
       "   Unnamed: 0      dP   x-x0   y-y0       Q\n",
       "0          15   40.90 -0.049  0.963   40.90\n",
       "1          20   77.70 -0.006  0.973   77.70\n",
       "2          25  128.16 -0.004  0.973  128.16\n",
       "3          30  189.61  0.111  0.973  189.61\n",
       "4          35  261.12  0.191  0.973  261.12\n",
       "5          40  345.16  0.281  0.973  345.16\n",
       "6          45  441.69  0.396  0.973  441.69\n",
       "7          50  561.48  0.521  0.973  561.48"
      ]
     },
     "metadata": {},
     "output_type": "display_data"
    }
   ],
   "source": [
    "data3['Q'] = data3['dP']\n",
    "display(data3)"
   ]
  },
  {
   "cell_type": "markdown",
   "metadata": {
    "slideshow": {
     "slide_type": "slide"
    }
   },
   "source": [
    "$\\rho = \\dfrac{P}{R \\cdot T}$, где $ R = 287 \\text{ } Дж/кг \\cdot {}^\\circК$\n"
   ]
  },
  {
   "cell_type": "markdown",
   "metadata": {
    "slideshow": {
     "slide_type": "fragment"
    }
   },
   "source": [
    "$\\mu = 1.458 \\dfrac{T^{\\frac{3}{2}}}{T + 110.4}\\cdot 10^{-6} \\text{ } \\frac{кг}{м \\cdot сек} $"
   ]
  },
  {
   "cell_type": "code",
   "execution_count": 26,
   "metadata": {
    "collapsed": true,
    "slideshow": {
     "slide_type": "skip"
    }
   },
   "outputs": [],
   "source": [
    "rho = 1.19998692\n",
    "mu = 1.458*293**1.5/(293+110.4)*10**(-6)\n",
    "g = 9.815\n",
    "d = 0.05"
   ]
  },
  {
   "cell_type": "code",
   "execution_count": 27,
   "metadata": {
    "slideshow": {
     "slide_type": "skip"
    }
   },
   "outputs": [
    {
     "name": "stdout",
     "output_type": "stream",
     "text": [
      "rho = 1.19998692 \n",
      "mu = 1.81268800379e-05 \n",
      "g = 9.815 \n",
      "d = 0.05 - sphere diameter\n"
     ]
    }
   ],
   "source": [
    "print \"rho = {} \\nmu = {} \\ng = {} \\nd = {} - sphere diameter\".format(rho, mu, g, d)"
   ]
  },
  {
   "cell_type": "code",
   "execution_count": 28,
   "metadata": {
    "collapsed": true,
    "slideshow": {
     "slide_type": "skip"
    }
   },
   "outputs": [],
   "source": [
    "data3['V']= data3.apply(lambda row: sqrt(2 * row['dP'] / rho), axis=1)"
   ]
  },
  {
   "cell_type": "code",
   "execution_count": 29,
   "metadata": {
    "slideshow": {
     "slide_type": "slide"
    }
   },
   "outputs": [
    {
     "data": {
      "text/html": [
       "<div>\n",
       "<style>\n",
       "    .dataframe thead tr:only-child th {\n",
       "        text-align: right;\n",
       "    }\n",
       "\n",
       "    .dataframe thead th {\n",
       "        text-align: left;\n",
       "    }\n",
       "\n",
       "    .dataframe tbody tr th {\n",
       "        vertical-align: top;\n",
       "    }\n",
       "</style>\n",
       "<table border=\"1\" class=\"dataframe\">\n",
       "  <thead>\n",
       "    <tr style=\"text-align: right;\">\n",
       "      <th></th>\n",
       "      <th>Unnamed: 0</th>\n",
       "      <th>dP</th>\n",
       "      <th>x-x0</th>\n",
       "      <th>y-y0</th>\n",
       "      <th>Q</th>\n",
       "      <th>V</th>\n",
       "      <th>X</th>\n",
       "      <th>Y</th>\n",
       "    </tr>\n",
       "  </thead>\n",
       "  <tbody>\n",
       "    <tr>\n",
       "      <th>0</th>\n",
       "      <td>15</td>\n",
       "      <td>40.90</td>\n",
       "      <td>-0.049</td>\n",
       "      <td>0.963</td>\n",
       "      <td>40.90</td>\n",
       "      <td>8.256356</td>\n",
       "      <td>2.228263</td>\n",
       "      <td>30.272021</td>\n",
       "    </tr>\n",
       "    <tr>\n",
       "      <th>1</th>\n",
       "      <td>20</td>\n",
       "      <td>77.70</td>\n",
       "      <td>-0.006</td>\n",
       "      <td>0.973</td>\n",
       "      <td>77.70</td>\n",
       "      <td>11.379869</td>\n",
       "      <td>6.418377</td>\n",
       "      <td>27.960796</td>\n",
       "    </tr>\n",
       "    <tr>\n",
       "      <th>2</th>\n",
       "      <td>25</td>\n",
       "      <td>128.16</td>\n",
       "      <td>-0.004</td>\n",
       "      <td>0.973</td>\n",
       "      <td>128.16</td>\n",
       "      <td>14.615140</td>\n",
       "      <td>6.609601</td>\n",
       "      <td>27.962805</td>\n",
       "    </tr>\n",
       "    <tr>\n",
       "      <th>3</th>\n",
       "      <td>30</td>\n",
       "      <td>189.61</td>\n",
       "      <td>0.111</td>\n",
       "      <td>0.973</td>\n",
       "      <td>189.61</td>\n",
       "      <td>17.776954</td>\n",
       "      <td>17.615220</td>\n",
       "      <td>28.117341</td>\n",
       "    </tr>\n",
       "    <tr>\n",
       "      <th>4</th>\n",
       "      <td>35</td>\n",
       "      <td>261.12</td>\n",
       "      <td>0.191</td>\n",
       "      <td>0.973</td>\n",
       "      <td>261.12</td>\n",
       "      <td>20.861561</td>\n",
       "      <td>25.283116</td>\n",
       "      <td>28.270110</td>\n",
       "    </tr>\n",
       "    <tr>\n",
       "      <th>5</th>\n",
       "      <td>40</td>\n",
       "      <td>345.16</td>\n",
       "      <td>0.281</td>\n",
       "      <td>0.973</td>\n",
       "      <td>345.16</td>\n",
       "      <td>23.984848</td>\n",
       "      <td>33.921086</td>\n",
       "      <td>28.486370</td>\n",
       "    </tr>\n",
       "    <tr>\n",
       "      <th>6</th>\n",
       "      <td>45</td>\n",
       "      <td>441.69</td>\n",
       "      <td>0.396</td>\n",
       "      <td>0.973</td>\n",
       "      <td>441.69</td>\n",
       "      <td>27.132232</td>\n",
       "      <td>44.976346</td>\n",
       "      <td>28.831106</td>\n",
       "    </tr>\n",
       "    <tr>\n",
       "      <th>7</th>\n",
       "      <td>50</td>\n",
       "      <td>561.48</td>\n",
       "      <td>0.521</td>\n",
       "      <td>0.973</td>\n",
       "      <td>561.48</td>\n",
       "      <td>30.591015</td>\n",
       "      <td>57.015652</td>\n",
       "      <td>29.292868</td>\n",
       "    </tr>\n",
       "  </tbody>\n",
       "</table>\n",
       "</div>"
      ],
      "text/plain": [
       "   Unnamed: 0      dP   x-x0   y-y0       Q          V          X          Y\n",
       "0          15   40.90 -0.049  0.963   40.90   8.256356   2.228263  30.272021\n",
       "1          20   77.70 -0.006  0.973   77.70  11.379869   6.418377  27.960796\n",
       "2          25  128.16 -0.004  0.973  128.16  14.615140   6.609601  27.962805\n",
       "3          30  189.61  0.111  0.973  189.61  17.776954  17.615220  28.117341\n",
       "4          35  261.12  0.191  0.973  261.12  20.861561  25.283116  28.270110\n",
       "5          40  345.16  0.281  0.973  345.16  23.984848  33.921086  28.486370\n",
       "6          45  441.69  0.396  0.973  441.69  27.132232  44.976346  28.831106\n",
       "7          50  561.48  0.521  0.973  561.48  30.591015  57.015652  29.292868"
      ]
     },
     "metadata": {},
     "output_type": "display_data"
    }
   ],
   "source": [
    "data3['X'] = data3.apply(getX, axis=1)\n",
    "data3['Y'] = data3.apply(lambda row: getY(row)+Gmy, axis=1)\n",
    "display(data3)"
   ]
  },
  {
   "cell_type": "code",
   "execution_count": 30,
   "metadata": {
    "slideshow": {
     "slide_type": "slide"
    }
   },
   "outputs": [
    {
     "data": {
      "text/html": [
       "<div>\n",
       "<style>\n",
       "    .dataframe thead tr:only-child th {\n",
       "        text-align: right;\n",
       "    }\n",
       "\n",
       "    .dataframe thead th {\n",
       "        text-align: left;\n",
       "    }\n",
       "\n",
       "    .dataframe tbody tr th {\n",
       "        vertical-align: top;\n",
       "    }\n",
       "</style>\n",
       "<table border=\"1\" class=\"dataframe\">\n",
       "  <thead>\n",
       "    <tr style=\"text-align: right;\">\n",
       "      <th></th>\n",
       "      <th>Unnamed: 0</th>\n",
       "      <th>dP</th>\n",
       "      <th>x-x0</th>\n",
       "      <th>y-y0</th>\n",
       "      <th>Q</th>\n",
       "      <th>V</th>\n",
       "      <th>X</th>\n",
       "      <th>Y</th>\n",
       "      <th>Re</th>\n",
       "    </tr>\n",
       "  </thead>\n",
       "  <tbody>\n",
       "    <tr>\n",
       "      <th>0</th>\n",
       "      <td>15</td>\n",
       "      <td>40.90</td>\n",
       "      <td>-0.049</td>\n",
       "      <td>0.963</td>\n",
       "      <td>40.90</td>\n",
       "      <td>8.256356</td>\n",
       "      <td>2.228263</td>\n",
       "      <td>30.272021</td>\n",
       "      <td>27328.251867</td>\n",
       "    </tr>\n",
       "    <tr>\n",
       "      <th>1</th>\n",
       "      <td>20</td>\n",
       "      <td>77.70</td>\n",
       "      <td>-0.006</td>\n",
       "      <td>0.973</td>\n",
       "      <td>77.70</td>\n",
       "      <td>11.379869</td>\n",
       "      <td>6.418377</td>\n",
       "      <td>27.960796</td>\n",
       "      <td>37666.971810</td>\n",
       "    </tr>\n",
       "    <tr>\n",
       "      <th>2</th>\n",
       "      <td>25</td>\n",
       "      <td>128.16</td>\n",
       "      <td>-0.004</td>\n",
       "      <td>0.973</td>\n",
       "      <td>128.16</td>\n",
       "      <td>14.615140</td>\n",
       "      <td>6.609601</td>\n",
       "      <td>27.962805</td>\n",
       "      <td>48375.609180</td>\n",
       "    </tr>\n",
       "    <tr>\n",
       "      <th>3</th>\n",
       "      <td>30</td>\n",
       "      <td>189.61</td>\n",
       "      <td>0.111</td>\n",
       "      <td>0.973</td>\n",
       "      <td>189.61</td>\n",
       "      <td>17.776954</td>\n",
       "      <td>17.615220</td>\n",
       "      <td>28.117341</td>\n",
       "      <td>58841.104571</td>\n",
       "    </tr>\n",
       "    <tr>\n",
       "      <th>4</th>\n",
       "      <td>35</td>\n",
       "      <td>261.12</td>\n",
       "      <td>0.191</td>\n",
       "      <td>0.973</td>\n",
       "      <td>261.12</td>\n",
       "      <td>20.861561</td>\n",
       "      <td>25.283116</td>\n",
       "      <td>28.270110</td>\n",
       "      <td>69051.046703</td>\n",
       "    </tr>\n",
       "    <tr>\n",
       "      <th>5</th>\n",
       "      <td>40</td>\n",
       "      <td>345.16</td>\n",
       "      <td>0.281</td>\n",
       "      <td>0.973</td>\n",
       "      <td>345.16</td>\n",
       "      <td>23.984848</td>\n",
       "      <td>33.921086</td>\n",
       "      <td>28.486370</td>\n",
       "      <td>79389.017600</td>\n",
       "    </tr>\n",
       "    <tr>\n",
       "      <th>6</th>\n",
       "      <td>45</td>\n",
       "      <td>441.69</td>\n",
       "      <td>0.396</td>\n",
       "      <td>0.973</td>\n",
       "      <td>441.69</td>\n",
       "      <td>27.132232</td>\n",
       "      <td>44.976346</td>\n",
       "      <td>28.831106</td>\n",
       "      <td>89806.750201</td>\n",
       "    </tr>\n",
       "    <tr>\n",
       "      <th>7</th>\n",
       "      <td>50</td>\n",
       "      <td>561.48</td>\n",
       "      <td>0.521</td>\n",
       "      <td>0.973</td>\n",
       "      <td>561.48</td>\n",
       "      <td>30.591015</td>\n",
       "      <td>57.015652</td>\n",
       "      <td>29.292868</td>\n",
       "      <td>101255.201734</td>\n",
       "    </tr>\n",
       "  </tbody>\n",
       "</table>\n",
       "</div>"
      ],
      "text/plain": [
       "   Unnamed: 0      dP   x-x0   y-y0       Q          V          X          Y  \\\n",
       "0          15   40.90 -0.049  0.963   40.90   8.256356   2.228263  30.272021   \n",
       "1          20   77.70 -0.006  0.973   77.70  11.379869   6.418377  27.960796   \n",
       "2          25  128.16 -0.004  0.973  128.16  14.615140   6.609601  27.962805   \n",
       "3          30  189.61  0.111  0.973  189.61  17.776954  17.615220  28.117341   \n",
       "4          35  261.12  0.191  0.973  261.12  20.861561  25.283116  28.270110   \n",
       "5          40  345.16  0.281  0.973  345.16  23.984848  33.921086  28.486370   \n",
       "6          45  441.69  0.396  0.973  441.69  27.132232  44.976346  28.831106   \n",
       "7          50  561.48  0.521  0.973  561.48  30.591015  57.015652  29.292868   \n",
       "\n",
       "              Re  \n",
       "0   27328.251867  \n",
       "1   37666.971810  \n",
       "2   48375.609180  \n",
       "3   58841.104571  \n",
       "4   69051.046703  \n",
       "5   79389.017600  \n",
       "6   89806.750201  \n",
       "7  101255.201734  "
      ]
     },
     "metadata": {},
     "output_type": "display_data"
    }
   ],
   "source": [
    "data3['Re'] = data3.apply(lambda row: rho * row['V'] * d / mu, axis=1)\n",
    "display(data3)"
   ]
  },
  {
   "cell_type": "code",
   "execution_count": 31,
   "metadata": {
    "collapsed": true
   },
   "outputs": [],
   "source": [
    "data3['Cxa'] = data3.apply(lambda row: row['X']/(row['Q'] * np.pi * (d/2)**2) * g/ 1000, axis=1)"
   ]
  },
  {
   "cell_type": "code",
   "execution_count": 32,
   "metadata": {
    "slideshow": {
     "slide_type": "slide"
    }
   },
   "outputs": [
    {
     "data": {
      "text/html": [
       "<div>\n",
       "<style>\n",
       "    .dataframe thead tr:only-child th {\n",
       "        text-align: right;\n",
       "    }\n",
       "\n",
       "    .dataframe thead th {\n",
       "        text-align: left;\n",
       "    }\n",
       "\n",
       "    .dataframe tbody tr th {\n",
       "        vertical-align: top;\n",
       "    }\n",
       "</style>\n",
       "<table border=\"1\" class=\"dataframe\">\n",
       "  <thead>\n",
       "    <tr style=\"text-align: right;\">\n",
       "      <th></th>\n",
       "      <th>Unnamed: 0</th>\n",
       "      <th>dP</th>\n",
       "      <th>x-x0</th>\n",
       "      <th>y-y0</th>\n",
       "      <th>Q</th>\n",
       "      <th>V</th>\n",
       "      <th>X</th>\n",
       "      <th>Y</th>\n",
       "      <th>Re</th>\n",
       "      <th>Cxa</th>\n",
       "      <th>Cya</th>\n",
       "    </tr>\n",
       "  </thead>\n",
       "  <tbody>\n",
       "    <tr>\n",
       "      <th>0</th>\n",
       "      <td>15</td>\n",
       "      <td>40.90</td>\n",
       "      <td>-0.049</td>\n",
       "      <td>0.963</td>\n",
       "      <td>40.90</td>\n",
       "      <td>8.256356</td>\n",
       "      <td>2.228263</td>\n",
       "      <td>30.272021</td>\n",
       "      <td>27328.251867</td>\n",
       "      <td>0.272335</td>\n",
       "      <td>0.924951</td>\n",
       "    </tr>\n",
       "    <tr>\n",
       "      <th>1</th>\n",
       "      <td>20</td>\n",
       "      <td>77.70</td>\n",
       "      <td>-0.006</td>\n",
       "      <td>0.973</td>\n",
       "      <td>77.70</td>\n",
       "      <td>11.379869</td>\n",
       "      <td>6.418377</td>\n",
       "      <td>27.960796</td>\n",
       "      <td>37666.971810</td>\n",
       "      <td>0.412919</td>\n",
       "      <td>0.449706</td>\n",
       "    </tr>\n",
       "    <tr>\n",
       "      <th>2</th>\n",
       "      <td>25</td>\n",
       "      <td>128.16</td>\n",
       "      <td>-0.004</td>\n",
       "      <td>0.973</td>\n",
       "      <td>128.16</td>\n",
       "      <td>14.615140</td>\n",
       "      <td>6.609601</td>\n",
       "      <td>27.962805</td>\n",
       "      <td>48375.609180</td>\n",
       "      <td>0.257800</td>\n",
       "      <td>0.272665</td>\n",
       "    </tr>\n",
       "    <tr>\n",
       "      <th>3</th>\n",
       "      <td>30</td>\n",
       "      <td>189.61</td>\n",
       "      <td>0.111</td>\n",
       "      <td>0.973</td>\n",
       "      <td>189.61</td>\n",
       "      <td>17.776954</td>\n",
       "      <td>17.615220</td>\n",
       "      <td>28.117341</td>\n",
       "      <td>58841.104571</td>\n",
       "      <td>0.464395</td>\n",
       "      <td>0.185316</td>\n",
       "    </tr>\n",
       "    <tr>\n",
       "      <th>4</th>\n",
       "      <td>35</td>\n",
       "      <td>261.12</td>\n",
       "      <td>0.191</td>\n",
       "      <td>0.973</td>\n",
       "      <td>261.12</td>\n",
       "      <td>20.861561</td>\n",
       "      <td>25.283116</td>\n",
       "      <td>28.270110</td>\n",
       "      <td>69051.046703</td>\n",
       "      <td>0.484006</td>\n",
       "      <td>0.135297</td>\n",
       "    </tr>\n",
       "    <tr>\n",
       "      <th>5</th>\n",
       "      <td>40</td>\n",
       "      <td>345.16</td>\n",
       "      <td>0.281</td>\n",
       "      <td>0.973</td>\n",
       "      <td>345.16</td>\n",
       "      <td>23.984848</td>\n",
       "      <td>33.921086</td>\n",
       "      <td>28.486370</td>\n",
       "      <td>79389.017600</td>\n",
       "      <td>0.491258</td>\n",
       "      <td>0.103138</td>\n",
       "    </tr>\n",
       "    <tr>\n",
       "      <th>6</th>\n",
       "      <td>45</td>\n",
       "      <td>441.69</td>\n",
       "      <td>0.396</td>\n",
       "      <td>0.973</td>\n",
       "      <td>441.69</td>\n",
       "      <td>27.132232</td>\n",
       "      <td>44.976346</td>\n",
       "      <td>28.831106</td>\n",
       "      <td>89806.750201</td>\n",
       "      <td>0.509011</td>\n",
       "      <td>0.081573</td>\n",
       "    </tr>\n",
       "    <tr>\n",
       "      <th>7</th>\n",
       "      <td>50</td>\n",
       "      <td>561.48</td>\n",
       "      <td>0.521</td>\n",
       "      <td>0.973</td>\n",
       "      <td>561.48</td>\n",
       "      <td>30.591015</td>\n",
       "      <td>57.015652</td>\n",
       "      <td>29.292868</td>\n",
       "      <td>101255.201734</td>\n",
       "      <td>0.507598</td>\n",
       "      <td>0.065197</td>\n",
       "    </tr>\n",
       "  </tbody>\n",
       "</table>\n",
       "</div>"
      ],
      "text/plain": [
       "   Unnamed: 0      dP   x-x0   y-y0       Q          V          X          Y  \\\n",
       "0          15   40.90 -0.049  0.963   40.90   8.256356   2.228263  30.272021   \n",
       "1          20   77.70 -0.006  0.973   77.70  11.379869   6.418377  27.960796   \n",
       "2          25  128.16 -0.004  0.973  128.16  14.615140   6.609601  27.962805   \n",
       "3          30  189.61  0.111  0.973  189.61  17.776954  17.615220  28.117341   \n",
       "4          35  261.12  0.191  0.973  261.12  20.861561  25.283116  28.270110   \n",
       "5          40  345.16  0.281  0.973  345.16  23.984848  33.921086  28.486370   \n",
       "6          45  441.69  0.396  0.973  441.69  27.132232  44.976346  28.831106   \n",
       "7          50  561.48  0.521  0.973  561.48  30.591015  57.015652  29.292868   \n",
       "\n",
       "              Re       Cxa       Cya  \n",
       "0   27328.251867  0.272335  0.924951  \n",
       "1   37666.971810  0.412919  0.449706  \n",
       "2   48375.609180  0.257800  0.272665  \n",
       "3   58841.104571  0.464395  0.185316  \n",
       "4   69051.046703  0.484006  0.135297  \n",
       "5   79389.017600  0.491258  0.103138  \n",
       "6   89806.750201  0.509011  0.081573  \n",
       "7  101255.201734  0.507598  0.065197  "
      ]
     },
     "metadata": {},
     "output_type": "display_data"
    }
   ],
   "source": [
    "data3['Cya'] = data3.apply(lambda row: row['Y']/(row['Q'] * np.pi * (d)**2)  * g/ 1000 , axis=1)\n",
    "\n",
    "display(data3)\n"
   ]
  },
  {
   "cell_type": "code",
   "execution_count": 33,
   "metadata": {
    "slideshow": {
     "slide_type": "slide"
    }
   },
   "outputs": [
    {
     "data": {
      "text/html": [
       "<div>\n",
       "<style>\n",
       "    .dataframe thead tr:only-child th {\n",
       "        text-align: right;\n",
       "    }\n",
       "\n",
       "    .dataframe thead th {\n",
       "        text-align: left;\n",
       "    }\n",
       "\n",
       "    .dataframe tbody tr th {\n",
       "        vertical-align: top;\n",
       "    }\n",
       "</style>\n",
       "<table border=\"1\" class=\"dataframe\">\n",
       "  <thead>\n",
       "    <tr style=\"text-align: right;\">\n",
       "      <th></th>\n",
       "      <th>Re</th>\n",
       "      <th>Cx</th>\n",
       "    </tr>\n",
       "  </thead>\n",
       "  <tbody>\n",
       "    <tr>\n",
       "      <th>0</th>\n",
       "      <td>1010.0</td>\n",
       "      <td>0.492</td>\n",
       "    </tr>\n",
       "    <tr>\n",
       "      <th>1</th>\n",
       "      <td>1260.0</td>\n",
       "      <td>0.457</td>\n",
       "    </tr>\n",
       "    <tr>\n",
       "      <th>2</th>\n",
       "      <td>1680.0</td>\n",
       "      <td>0.441</td>\n",
       "    </tr>\n",
       "    <tr>\n",
       "      <th>3</th>\n",
       "      <td>2500.0</td>\n",
       "      <td>0.426</td>\n",
       "    </tr>\n",
       "    <tr>\n",
       "      <th>4</th>\n",
       "      <td>3350.0</td>\n",
       "      <td>0.426</td>\n",
       "    </tr>\n",
       "    <tr>\n",
       "      <th>5</th>\n",
       "      <td>4480.0</td>\n",
       "      <td>0.426</td>\n",
       "    </tr>\n",
       "    <tr>\n",
       "      <th>6</th>\n",
       "      <td>5770.0</td>\n",
       "      <td>0.426</td>\n",
       "    </tr>\n",
       "    <tr>\n",
       "      <th>7</th>\n",
       "      <td>7180.0</td>\n",
       "      <td>0.427</td>\n",
       "    </tr>\n",
       "    <tr>\n",
       "      <th>8</th>\n",
       "      <td>9250.0</td>\n",
       "      <td>0.427</td>\n",
       "    </tr>\n",
       "    <tr>\n",
       "      <th>9</th>\n",
       "      <td>11500.0</td>\n",
       "      <td>0.427</td>\n",
       "    </tr>\n",
       "  </tbody>\n",
       "</table>\n",
       "</div>"
      ],
      "text/plain": [
       "        Re     Cx\n",
       "0   1010.0  0.492\n",
       "1   1260.0  0.457\n",
       "2   1680.0  0.441\n",
       "3   2500.0  0.426\n",
       "4   3350.0  0.426\n",
       "5   4480.0  0.426\n",
       "6   5770.0  0.426\n",
       "7   7180.0  0.427\n",
       "8   9250.0  0.427\n",
       "9  11500.0  0.427"
      ]
     },
     "metadata": {},
     "output_type": "display_data"
    }
   ],
   "source": [
    "testdata = pd.read_csv(\"datatest.csv\")\n",
    "display(testdata.head(10))"
   ]
  },
  {
   "cell_type": "code",
   "execution_count": 34,
   "metadata": {
    "slideshow": {
     "slide_type": "slide"
    }
   },
   "outputs": [
    {
     "data": {
      "image/png": "[encoded data removed]",
      "text/plain": [
       "<matplotlib.figure.Figure at 0x7f4543044d90>"
      ]
     },
     "metadata": {},
     "output_type": "display_data"
    },
    {
     "data": {
      "image/png": "[encoded data removed]",
      "text/plain": [
       "<matplotlib.figure.Figure at 0x7f4549e24390>"
      ]
     },
     "metadata": {},
     "output_type": "display_data"
    }
   ],
   "source": [
    "plt.figure(1)\n",
    "plt.plot(data3['Re'].values, data3['Cxa'].values, marker='o', linestyle=\"-\", label=\"Our data\")\n",
    "plt.legend()\n",
    "plt.xlabel('Re')\n",
    "plt.ylabel('Cx')\n",
    "plt.figure(2)\n",
    "plt.plot(data3['Re'].values, data3['Cya'].values, marker='o', linestyle=\"-\", label=\"Our data\")\n",
    "plt.xlabel('Re')\n",
    "plt.ylabel('Cy')\n",
    "plt.legend()\n",
    "plt.show()"
   ]
  },
  {
   "cell_type": "code",
   "execution_count": 35,
   "metadata": {
    "slideshow": {
     "slide_type": "subslide"
    }
   },
   "outputs": [
    {
     "data": {
      "image/png": "[encoded data removed]",
      "text/plain": [
       "<matplotlib.figure.Figure at 0x7f4542e817d0>"
      ]
     },
     "metadata": {},
     "output_type": "display_data"
    }
   ],
   "source": [
    "plt.figure(1)\n",
    "plt.plot(data3['Re'].values, data3['Cxa'].values, marker='o', linestyle=\"-\", label=\"Our data\")\n",
    "plt.plot(testdata['Re'].values, testdata['Cx'], marker='o', linestyle=\"--\", color=\"r\", label='Other author\\'s data')\n",
    "plt.legend()\n",
    "plt.xlabel('Re')\n",
    "plt.ylabel('Cx')\n",
    "plt.show()"
   ]
  },
  {
   "cell_type": "markdown",
   "metadata": {
    "slideshow": {
     "slide_type": "slide"
    }
   },
   "source": [
    "Для подсчета погрешности коэффициентов воспользуемся общей формулой:\n",
    "$x = f(A, B, C, \\dots)$\n",
    "\n",
    "$\\sigma_x = \\sqrt{\\left(\\dfrac{\\partial f}{\\partial A}\\right)^2 \\sigma_A^2 + \\left(\\dfrac{\\partial f}{\\partial B}\\right)^2 \\sigma_B^2 + \\left(\\dfrac{\\partial f}{\\partial C}\\right)^2 \\sigma_C^2 + \\cdots}$\n",
    "\n",
    "Так как мы знаем, что:\n",
    "\n",
    "$C_{xa} = \\dfrac{X_a}{Q \\cdot S} \\qquad C_{ya} = \\dfrac{Y_a}{Q \\cdot S}$\n",
    "\n",
    "то применимо к нашей формуле:\n",
    "\n",
    "$\\sigma_{C_{xa}} = \\sqrt{\\left(\\dfrac{\\partial C_{xa}}{\\partial X_a}\\right)^2 \\sigma_{X_a}^2 + \\left(\\dfrac{\\partial C_{xa}}{\\partial Q}\\right)^2 \\sigma_Q^2}$\n",
    "\n",
    "$\\sigma_{C_{ya}} = \\sqrt{\\left(\\dfrac{\\partial C_{ya}}{\\partial Y_a}\\right)^2 \\sigma_{Y_a}^2 + \\left(\\dfrac{\\partial C_{ya}}{\\partial Q}\\right)^2 \\sigma_Q^2}$\n",
    "\n",
    "где частные производные вычислены в наших точках, и $Q = \\Delta P$\n",
    "\n",
    "$\\dfrac{\\partial C_{xa}}{\\partial X_a} = \\dfrac{1}{Q \\cdot S} \\qquad \\dfrac{\\partial C_{xa}}{\\partial Q} = -\\dfrac{X_a}{Q^2 \\cdot S}$\n",
    "\n",
    "$\\dfrac{\\partial C_{ya}}{\\partial Y_a} = \\dfrac{1}{Q \\cdot S} \\qquad \\dfrac{\\partial C_{ya}}{\\partial Q} = -\\dfrac{Y_a}{Q^2 \\cdot S}$\n",
    "\n",
    "Также знаем погрешности тензовесов и манометра:\n",
    "\n",
    "$\\sigma_p = (2 + 0.0.1\\Delta P) \\qquad \\sigma_{X} = 0.40 \\times X \\qquad \\sigma_{Y} = 0.40 \\times Y$"
   ]
  },
  {
   "cell_type": "code",
   "execution_count": 36,
   "metadata": {
    "collapsed": true,
    "slideshow": {
     "slide_type": "skip"
    }
   },
   "outputs": [],
   "source": [
    "S = np.pi * (d/2) **2\n",
    "\n",
    "def sigmaX(x):\n",
    "    sigmaOtn = 0.4 * g /1000\n",
    "    return sigmaOtn\n",
    "\n",
    "def sigmaY(x):\n",
    "    sigmaOtn = 0.4 * g / 1000\n",
    "    return sigmaOtn\n",
    "\n",
    "def sigmadP(dp):\n",
    "    return 2 + 0.01 * dp\n",
    "\n",
    "def dCxX(x, dp) :\n",
    "    return 1/(S * dp)\n",
    "\n",
    "def dCyY(y, dp) :\n",
    "    return 1/(S * dp)\n",
    "\n",
    "def dCxdP(x, dp) :\n",
    "    return -x*g/1000 /(S * dp**2)\n",
    "\n",
    "def dCydP(y, dp) :\n",
    "    return -y * g / 1000 /(S * dp**2)\n",
    "\n",
    "def sigmaCx(x, dp):\n",
    "    interm = (dCxX(x, dp) * sigmaX(x))**2 + (dCxdP(x, dp) * sigmadP(dp))**2\n",
    "    return sqrt(interm)\n",
    "\n",
    "def sigmaCy(y, dp):\n",
    "    interm = (dCyY(y, dp) * sigmaY(y))**2 + (dCydP(y, dp) * sigmadP(dp))**2\n",
    "    return sqrt(interm)\n",
    "    "
   ]
  },
  {
   "cell_type": "code",
   "execution_count": 37,
   "metadata": {
    "slideshow": {
     "slide_type": "slide"
    }
   },
   "outputs": [
    {
     "data": {
      "text/html": [
       "<div>\n",
       "<style>\n",
       "    .dataframe thead tr:only-child th {\n",
       "        text-align: right;\n",
       "    }\n",
       "\n",
       "    .dataframe thead th {\n",
       "        text-align: left;\n",
       "    }\n",
       "\n",
       "    .dataframe tbody tr th {\n",
       "        vertical-align: top;\n",
       "    }\n",
       "</style>\n",
       "<table border=\"1\" class=\"dataframe\">\n",
       "  <thead>\n",
       "    <tr style=\"text-align: right;\">\n",
       "      <th></th>\n",
       "      <th>Unnamed: 0</th>\n",
       "      <th>dP</th>\n",
       "      <th>x-x0</th>\n",
       "      <th>y-y0</th>\n",
       "      <th>Q</th>\n",
       "      <th>V</th>\n",
       "      <th>X</th>\n",
       "      <th>Y</th>\n",
       "      <th>Re</th>\n",
       "      <th>Cxa</th>\n",
       "      <th>Cya</th>\n",
       "      <th>sigmaCx</th>\n",
       "      <th>sigmaCy</th>\n",
       "    </tr>\n",
       "  </thead>\n",
       "  <tbody>\n",
       "    <tr>\n",
       "      <th>0</th>\n",
       "      <td>15</td>\n",
       "      <td>40.90</td>\n",
       "      <td>-0.049</td>\n",
       "      <td>0.963</td>\n",
       "      <td>40.90</td>\n",
       "      <td>8.256356</td>\n",
       "      <td>2.228263</td>\n",
       "      <td>30.272021</td>\n",
       "      <td>27328.251867</td>\n",
       "      <td>0.272335</td>\n",
       "      <td>0.924951</td>\n",
       "      <td>0.051452</td>\n",
       "      <td>0.223334</td>\n",
       "    </tr>\n",
       "    <tr>\n",
       "      <th>1</th>\n",
       "      <td>20</td>\n",
       "      <td>77.70</td>\n",
       "      <td>-0.006</td>\n",
       "      <td>0.973</td>\n",
       "      <td>77.70</td>\n",
       "      <td>11.379869</td>\n",
       "      <td>6.418377</td>\n",
       "      <td>27.960796</td>\n",
       "      <td>37666.971810</td>\n",
       "      <td>0.412919</td>\n",
       "      <td>0.449706</td>\n",
       "      <td>0.029665</td>\n",
       "      <td>0.069249</td>\n",
       "    </tr>\n",
       "    <tr>\n",
       "      <th>2</th>\n",
       "      <td>25</td>\n",
       "      <td>128.16</td>\n",
       "      <td>-0.004</td>\n",
       "      <td>0.973</td>\n",
       "      <td>128.16</td>\n",
       "      <td>14.615140</td>\n",
       "      <td>6.609601</td>\n",
       "      <td>27.962805</td>\n",
       "      <td>48375.609180</td>\n",
       "      <td>0.257800</td>\n",
       "      <td>0.272665</td>\n",
       "      <td>0.016941</td>\n",
       "      <td>0.031989</td>\n",
       "    </tr>\n",
       "    <tr>\n",
       "      <th>3</th>\n",
       "      <td>30</td>\n",
       "      <td>189.61</td>\n",
       "      <td>0.111</td>\n",
       "      <td>0.973</td>\n",
       "      <td>189.61</td>\n",
       "      <td>17.776954</td>\n",
       "      <td>17.615220</td>\n",
       "      <td>28.117341</td>\n",
       "      <td>58841.104571</td>\n",
       "      <td>0.464395</td>\n",
       "      <td>0.185316</td>\n",
       "      <td>0.014222</td>\n",
       "      <td>0.018526</td>\n",
       "    </tr>\n",
       "    <tr>\n",
       "      <th>4</th>\n",
       "      <td>35</td>\n",
       "      <td>261.12</td>\n",
       "      <td>0.191</td>\n",
       "      <td>0.973</td>\n",
       "      <td>261.12</td>\n",
       "      <td>20.861561</td>\n",
       "      <td>25.283116</td>\n",
       "      <td>28.270110</td>\n",
       "      <td>69051.046703</td>\n",
       "      <td>0.484006</td>\n",
       "      <td>0.135297</td>\n",
       "      <td>0.011476</td>\n",
       "      <td>0.012246</td>\n",
       "    </tr>\n",
       "    <tr>\n",
       "      <th>5</th>\n",
       "      <td>40</td>\n",
       "      <td>345.16</td>\n",
       "      <td>0.281</td>\n",
       "      <td>0.973</td>\n",
       "      <td>345.16</td>\n",
       "      <td>23.984848</td>\n",
       "      <td>33.921086</td>\n",
       "      <td>28.486370</td>\n",
       "      <td>79389.017600</td>\n",
       "      <td>0.491258</td>\n",
       "      <td>0.103138</td>\n",
       "      <td>0.009683</td>\n",
       "      <td>0.008719</td>\n",
       "    </tr>\n",
       "    <tr>\n",
       "      <th>6</th>\n",
       "      <td>45</td>\n",
       "      <td>441.69</td>\n",
       "      <td>0.396</td>\n",
       "      <td>0.973</td>\n",
       "      <td>441.69</td>\n",
       "      <td>27.132232</td>\n",
       "      <td>44.976346</td>\n",
       "      <td>28.831106</td>\n",
       "      <td>89806.750201</td>\n",
       "      <td>0.509011</td>\n",
       "      <td>0.081573</td>\n",
       "      <td>0.008671</td>\n",
       "      <td>0.006555</td>\n",
       "    </tr>\n",
       "    <tr>\n",
       "      <th>7</th>\n",
       "      <td>50</td>\n",
       "      <td>561.48</td>\n",
       "      <td>0.521</td>\n",
       "      <td>0.973</td>\n",
       "      <td>561.48</td>\n",
       "      <td>30.591015</td>\n",
       "      <td>57.015652</td>\n",
       "      <td>29.292868</td>\n",
       "      <td>101255.201734</td>\n",
       "      <td>0.507598</td>\n",
       "      <td>0.065197</td>\n",
       "      <td>0.007751</td>\n",
       "      <td>0.005019</td>\n",
       "    </tr>\n",
       "  </tbody>\n",
       "</table>\n",
       "</div>"
      ],
      "text/plain": [
       "   Unnamed: 0      dP   x-x0   y-y0       Q          V          X          Y  \\\n",
       "0          15   40.90 -0.049  0.963   40.90   8.256356   2.228263  30.272021   \n",
       "1          20   77.70 -0.006  0.973   77.70  11.379869   6.418377  27.960796   \n",
       "2          25  128.16 -0.004  0.973  128.16  14.615140   6.609601  27.962805   \n",
       "3          30  189.61  0.111  0.973  189.61  17.776954  17.615220  28.117341   \n",
       "4          35  261.12  0.191  0.973  261.12  20.861561  25.283116  28.270110   \n",
       "5          40  345.16  0.281  0.973  345.16  23.984848  33.921086  28.486370   \n",
       "6          45  441.69  0.396  0.973  441.69  27.132232  44.976346  28.831106   \n",
       "7          50  561.48  0.521  0.973  561.48  30.591015  57.015652  29.292868   \n",
       "\n",
       "              Re       Cxa       Cya   sigmaCx   sigmaCy  \n",
       "0   27328.251867  0.272335  0.924951  0.051452  0.223334  \n",
       "1   37666.971810  0.412919  0.449706  0.029665  0.069249  \n",
       "2   48375.609180  0.257800  0.272665  0.016941  0.031989  \n",
       "3   58841.104571  0.464395  0.185316  0.014222  0.018526  \n",
       "4   69051.046703  0.484006  0.135297  0.011476  0.012246  \n",
       "5   79389.017600  0.491258  0.103138  0.009683  0.008719  \n",
       "6   89806.750201  0.509011  0.081573  0.008671  0.006555  \n",
       "7  101255.201734  0.507598  0.065197  0.007751  0.005019  "
      ]
     },
     "metadata": {},
     "output_type": "display_data"
    }
   ],
   "source": [
    "data3['sigmaCx'] = data3.apply(lambda row: sigmaCx(row['X'], row['Q']) , axis=1)\n",
    "data3['sigmaCy'] = data3.apply(lambda row: sigmaCy(row['Y'], row['Q']), axis=1)\n",
    "display(data3)"
   ]
  },
  {
   "cell_type": "code",
   "execution_count": 38,
   "metadata": {
    "slideshow": {
     "slide_type": "slide"
    }
   },
   "outputs": [
    {
     "data": {
      "image/png": "[encoded data removed]",
      "text/plain": [
       "<matplotlib.figure.Figure at 0x7f4542d56910>"
      ]
     },
     "metadata": {},
     "output_type": "display_data"
    },
    {
     "data": {
      "image/png": "[encoded data removed]",
      "text/plain": [
       "<matplotlib.figure.Figure at 0x7f4542cdc150>"
      ]
     },
     "metadata": {},
     "output_type": "display_data"
    }
   ],
   "source": [
    "plt.figure(1)\n",
    "plt.plot(data3['Re'].values, data3['Cxa'].values, marker='o', linestyle=\"-\", label=\"Our data\")\n",
    "plt.plot(data3['Re'].values, data3['Cxa'].values + data3['sigmaCx'].values, marker='o', linestyle=\"-\", label=\"Cx + sigmaCx\")\n",
    "plt.plot(data3['Re'].values, data3['Cxa'].values - data3['sigmaCx'].values, marker='o', linestyle=\"-\", label=\"Cx - sigmaCx\")\n",
    "plt.legend()\n",
    "plt.xlabel('Re')\n",
    "plt.ylabel('Cx')\n",
    "plt.figure(2)\n",
    "plt.plot(data3['Re'].values, data3['Cya'].values, marker='o', linestyle=\"-\", label=\"Our data\")\n",
    "plt.plot(data3['Re'].values, data3['Cya'].values + data3['sigmaCy'].values, marker='o', linestyle=\"-\", label=\"Cy + sigmaCy\")\n",
    "plt.plot(data3['Re'].values, data3['Cya'].values - data3['sigmaCy'].values, marker='o', linestyle=\"-\", label=\"Cy - sigmaCy\")\n",
    "plt.xlabel('Re')\n",
    "plt.ylabel('Cy')\n",
    "plt.legend()\n",
    "plt.show()"
   ]
  }
 ],
 "metadata": {
  "kernelspec": {
   "display_name": "Python 2",
   "language": "python",
   "name": "python2"
  },
  "language_info": {
   "codemirror_mode": {
    "name": "ipython",
    "version": 2
   },
   "file_extension": ".py",
   "mimetype": "text/x-python",
   "name": "python",
   "nbconvert_exporter": "python",
   "pygments_lexer": "ipython2",
   "version": "2.7.13"
  }
 },
 "nbformat": 4,
 "nbformat_minor": 1
}
